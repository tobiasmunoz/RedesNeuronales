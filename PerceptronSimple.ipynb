{
  "nbformat": 4,
  "nbformat_minor": 0,
  "metadata": {
    "colab": {
      "provenance": []
    },
    "kernelspec": {
      "name": "python3",
      "display_name": "Python 3"
    },
    "language_info": {
      "name": "python"
    }
  },
  "cells": [
    {
      "cell_type": "markdown",
      "source": [
        "# Perceptron Simple - Redes Neuronales"
      ],
      "metadata": {
        "id": "IqRPPHIchb0O"
      }
    },
    {
      "cell_type": "code",
      "execution_count": 1,
      "metadata": {
        "id": "GRb3kieAgA0H"
      },
      "outputs": [],
      "source": [
        "import numpy as np\n",
        "import matplotlib.pyplot as plt"
      ]
    },
    {
      "cell_type": "code",
      "source": [
        "N = 4\n",
        "M = 6\n",
        "P = 10"
      ],
      "metadata": {
        "id": "hHv9kvWpgP_n"
      },
      "execution_count": 2,
      "outputs": []
    },
    {
      "cell_type": "code",
      "source": [
        "np.random.seed(42)\n",
        "x = np.random.uniform(-5,5,(P,N+1))\n",
        "x[:,-1] = 1"
      ],
      "metadata": {
        "id": "Fuz143S2gSb5"
      },
      "execution_count": 4,
      "outputs": []
    },
    {
      "cell_type": "code",
      "source": [
        "A = np.random.normal(-3,3,(N+1,M))\n",
        "\n",
        "Z = np.dot(x,A)\n",
        "\n",
        "W = np.random.normal(0,0.1,(N+1,M))"
      ],
      "metadata": {
        "id": "xADskywegafP"
      },
      "execution_count": 7,
      "outputs": []
    },
    {
      "cell_type": "code",
      "source": [
        "y = np.dot(x,W)\n",
        "d = Z - y\n",
        "\n",
        "delta_w = np.dot(x.T,d)\n",
        "epsilon = 0.001\n",
        "\n",
        "W = W + epsilon*delta_w"
      ],
      "metadata": {
        "id": "Wxq2OV4Aglbj"
      },
      "execution_count": 8,
      "outputs": []
    },
    {
      "cell_type": "code",
      "source": [
        "di = d\n",
        "error = np.sum(di**2)\n",
        "i = 0\n",
        "errores = []"
      ],
      "metadata": {
        "id": "eDgt3LvvgxJS"
      },
      "execution_count": 9,
      "outputs": []
    },
    {
      "cell_type": "code",
      "source": [
        "while (error > epsilon) and (i < 999):\n",
        "  yi = np.dot(x,W)\n",
        "  di = Z - yi\n",
        "  error = np.sum(di**2)\n",
        "  errores.append(error)\n",
        "  delta_wi = np.dot(x.T,di)\n",
        "  W = W + epsilon*delta_wi\n",
        "  i += 1"
      ],
      "metadata": {
        "id": "B9gyb8tCg2e8"
      },
      "execution_count": 12,
      "outputs": []
    },
    {
      "cell_type": "code",
      "source": [
        "plt.plot(errores)\n",
        "plt.xlabel('Iteraciones')\n",
        "plt.ylabel('Error')\n",
        "plt.show()"
      ],
      "metadata": {
        "colab": {
          "base_uri": "https://localhost:8080/",
          "height": 449
        },
        "id": "fM0XKimRhKl1",
        "outputId": "5bf0f6ee-f64d-4525-9cd6-afe46438d074"
      },
      "execution_count": 13,
      "outputs": [
        {
          "output_type": "display_data",
          "data": {
            "text/plain": [
              "<Figure size 640x480 with 1 Axes>"
            ],
            "image/png": "[encoded data removed]"
          },
          "metadata": {}
        }
      ]
    },
    {
      "cell_type": "markdown",
      "source": [
        "El perceptron simple usa funcion np.sign( np.dot(X,W) ) en ves de solo np.dot"
      ],
      "metadata": {
        "id": "z8r5v7fChQ53"
      }
    },
    {
      "cell_type": "markdown",
      "source": [
        "# Guia 1"
      ],
      "metadata": {
        "id": "41M4qSBwhYRf"
      }
    },
    {
      "cell_type": "markdown",
      "source": [
        "Se busca entrenar un perceptron simple que aprenda las funciones logicas AND, y XOR. +1 = True, -1 = False"
      ],
      "metadata": {
        "id": "wTQgbsI7hi8q"
      }
    },
    {
      "cell_type": "code",
      "source": [
        "logic_input = np.array( [\n",
        "                        [-1,-1,1],\n",
        "                        [-1,+1,1],\n",
        "                        [+1,-1,1],\n",
        "                        [+1,+1,1]\n",
        "                         ] ) # Vendria a ser el x, dim = (P,N+1) = (4,3)\n",
        "# Primera columna es el AND, la segunda el XOR\n",
        "logic_target = np.array( [\n",
        "                        [-1,-1],\n",
        "                        [-1,+1],\n",
        "                        [-1,+1],\n",
        "                        [+1,+1]\n",
        "                          ] ) # Vendria a ser el Z, dim = (P,M) = (4,2)"
      ],
      "metadata": {
        "id": "wowuxfsLhapR"
      },
      "execution_count": 68,
      "outputs": []
    },
    {
      "cell_type": "code",
      "source": [
        "# N = 2, P = 4, M = 2\n",
        "np.random.seed(123)\n",
        "w2 = np.random.normal(0,0.1,(3,2)) # dim = (N+1,M) = (3,2)\n",
        "i2 = 0\n",
        "y2 = np.dot(logic_input,w2)\n",
        "d2 = logic_target - y2\n",
        "delta_w2 = np.dot(logic_input.T,d2)\n",
        "epsilon2 = 0.01\n",
        "w2 = w2 + epsilon*delta_w2"
      ],
      "metadata": {
        "id": "fwxQPih_irQ0"
      },
      "execution_count": 78,
      "outputs": []
    },
    {
      "cell_type": "code",
      "source": [
        "di2 = d2\n",
        "error2 = np.sum(di2**2)\n",
        "i2 = 0\n",
        "errores2 = []\n",
        "\n",
        "while (error2 > epsilon2) and (i2 < 999):\n",
        "  yi2 = np.sign( np.dot(logic_input,w2) )\n",
        "  di2 = logic_target - yi2\n",
        "  error2 = np.sum(di2**2)\n",
        "  errores2.append(error2)\n",
        "  delta_wi2 = np.dot(logic_input.T,di2)\n",
        "  w2 = w2 + epsilon*delta_wi2\n",
        "  i2 += 1\n",
        "  print('Error:',error2,'Iteracion',i2)\n"
      ],
      "metadata": {
        "colab": {
          "base_uri": "https://localhost:8080/"
        },
        "id": "NV19kpCpkli8",
        "outputId": "31375fcc-ef71-4adf-eab2-801730507eaf"
      },
      "execution_count": 79,
      "outputs": [
        {
          "output_type": "stream",
          "name": "stdout",
          "text": [
            "Error: 20.0 Iteracion 1\n",
            "Error: 20.0 Iteracion 2\n",
            "Error: 16.0 Iteracion 3\n",
            "Error: 16.0 Iteracion 4\n",
            "Error: 16.0 Iteracion 5\n",
            "Error: 16.0 Iteracion 6\n",
            "Error: 16.0 Iteracion 7\n",
            "Error: 16.0 Iteracion 8\n",
            "Error: 16.0 Iteracion 9\n",
            "Error: 16.0 Iteracion 10\n",
            "Error: 16.0 Iteracion 11\n",
            "Error: 16.0 Iteracion 12\n",
            "Error: 16.0 Iteracion 13\n",
            "Error: 16.0 Iteracion 14\n",
            "Error: 16.0 Iteracion 15\n",
            "Error: 16.0 Iteracion 16\n",
            "Error: 16.0 Iteracion 17\n",
            "Error: 16.0 Iteracion 18\n",
            "Error: 16.0 Iteracion 19\n",
            "Error: 12.0 Iteracion 20\n",
            "Error: 12.0 Iteracion 21\n",
            "Error: 12.0 Iteracion 22\n",
            "Error: 12.0 Iteracion 23\n",
            "Error: 8.0 Iteracion 24\n",
            "Error: 12.0 Iteracion 25\n",
            "Error: 12.0 Iteracion 26\n",
            "Error: 8.0 Iteracion 27\n",
            "Error: 12.0 Iteracion 28\n",
            "Error: 12.0 Iteracion 29\n",
            "Error: 8.0 Iteracion 30\n",
            "Error: 8.0 Iteracion 31\n",
            "Error: 8.0 Iteracion 32\n",
            "Error: 4.0 Iteracion 33\n",
            "Error: 4.0 Iteracion 34\n",
            "Error: 8.0 Iteracion 35\n",
            "Error: 4.0 Iteracion 36\n",
            "Error: 4.0 Iteracion 37\n",
            "Error: 8.0 Iteracion 38\n",
            "Error: 4.0 Iteracion 39\n",
            "Error: 4.0 Iteracion 40\n",
            "Error: 8.0 Iteracion 41\n",
            "Error: 4.0 Iteracion 42\n",
            "Error: 4.0 Iteracion 43\n",
            "Error: 8.0 Iteracion 44\n",
            "Error: 4.0 Iteracion 45\n",
            "Error: 4.0 Iteracion 46\n",
            "Error: 4.0 Iteracion 47\n",
            "Error: 0.0 Iteracion 48\n"
          ]
        }
      ]
    },
    {
      "cell_type": "code",
      "source": [
        "plt.plot(errores2)\n",
        "plt.xlabel('Iteraciones')\n",
        "plt.ylabel('Error')\n",
        "plt.show()"
      ],
      "metadata": {
        "colab": {
          "base_uri": "https://localhost:8080/",
          "height": 449
        },
        "id": "eeUeLGcRmBcf",
        "outputId": "807f30e3-c786-4436-8727-3d5d6fe8b68c"
      },
      "execution_count": 80,
      "outputs": [
        {
          "output_type": "display_data",
          "data": {
            "text/plain": [
              "<Figure size 640x480 with 1 Axes>"
            ],
            "image/png": "[encoded data removed]"
          },
          "metadata": {}
        }
      ]
    }
  ]
}