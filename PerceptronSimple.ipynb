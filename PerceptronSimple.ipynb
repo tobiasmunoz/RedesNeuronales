{
  "nbformat": 4,
  "nbformat_minor": 0,
  "metadata": {
    "colab": {
      "provenance": []
    },
    "kernelspec": {
      "name": "python3",
      "display_name": "Python 3"
    },
    "language_info": {
      "name": "python"
    }
  },
  "cells": [
    {
      "cell_type": "markdown",
      "source": [
        "# Perceptron Simple - Redes Neuronales"
      ],
      "metadata": {
        "id": "IqRPPHIchb0O"
      }
    },
    {
      "cell_type": "code",
      "execution_count": 41,
      "metadata": {
        "id": "GRb3kieAgA0H"
      },
      "outputs": [],
      "source": [
        "import numpy as np\n",
        "import matplotlib.pyplot as plt"
      ]
    },
    {
      "cell_type": "code",
      "source": [
        "N = 4\n",
        "M = 6\n",
        "P = 10"
      ],
      "metadata": {
        "id": "hHv9kvWpgP_n"
      },
      "execution_count": 42,
      "outputs": []
    },
    {
      "cell_type": "code",
      "source": [
        "np.random.seed(42)\n",
        "x = np.random.uniform(-5,5,(P,N+1))\n",
        "x[:,-1] = 1"
      ],
      "metadata": {
        "id": "Fuz143S2gSb5"
      },
      "execution_count": 43,
      "outputs": []
    },
    {
      "cell_type": "code",
      "source": [
        "A = np.random.normal(-3,3,(N+1,M))\n",
        "\n",
        "Z = np.dot(x,A)\n",
        "\n",
        "W = np.random.normal(0,0.1,(N+1,M))"
      ],
      "metadata": {
        "id": "xADskywegafP"
      },
      "execution_count": 44,
      "outputs": []
    },
    {
      "cell_type": "code",
      "source": [
        "y = np.dot(x,W)\n",
        "d = Z - y\n",
        "\n",
        "delta_w = np.dot(x.T,d)\n",
        "epsilon = 0.001\n",
        "\n",
        "W = W + epsilon*delta_w"
      ],
      "metadata": {
        "id": "Wxq2OV4Aglbj"
      },
      "execution_count": 45,
      "outputs": []
    },
    {
      "cell_type": "code",
      "source": [
        "di = d\n",
        "error = np.sum(di**2)\n",
        "i = 0\n",
        "errores = []"
      ],
      "metadata": {
        "id": "eDgt3LvvgxJS"
      },
      "execution_count": 46,
      "outputs": []
    },
    {
      "cell_type": "code",
      "source": [
        "while (error > epsilon) and (i < 999):\n",
        "  yi = np.dot(x,W)\n",
        "  di = Z - yi\n",
        "  error = np.sum(di**2)\n",
        "  errores.append(error)\n",
        "  delta_wi = np.dot(x.T,di)\n",
        "  W = W + epsilon*delta_wi\n",
        "  i += 1"
      ],
      "metadata": {
        "id": "B9gyb8tCg2e8"
      },
      "execution_count": 47,
      "outputs": []
    },
    {
      "cell_type": "code",
      "source": [
        "plt.plot(errores)\n",
        "plt.xlabel('Iteraciones')\n",
        "plt.ylabel('Error')\n",
        "plt.show()"
      ],
      "metadata": {
        "colab": {
          "base_uri": "https://localhost:8080/",
          "height": 449
        },
        "id": "fM0XKimRhKl1",
        "outputId": "e960b830-03f0-4314-c57d-fe37babb03dd"
      },
      "execution_count": 48,
      "outputs": [
        {
          "output_type": "display_data",
          "data": {
            "text/plain": [
              "<Figure size 640x480 with 1 Axes>"
            ],
            "image/png": "[encoded data removed]"
          },
          "metadata": {}
        }
      ]
    },
    {
      "cell_type": "markdown",
      "source": [
        "El perceptron simple usa funcion np.sign( np.dot(X,W) ) en ves de solo np.dot"
      ],
      "metadata": {
        "id": "z8r5v7fChQ53"
      }
    },
    {
      "cell_type": "markdown",
      "source": [
        "# Practica 1"
      ],
      "metadata": {
        "id": "41M4qSBwhYRf"
      }
    },
    {
      "cell_type": "markdown",
      "source": [
        "## Ejercicio 1\n",
        "### Ej 1.1\n",
        "### 1)"
      ],
      "metadata": {
        "id": "bWgoPEGqC8JW"
      }
    },
    {
      "cell_type": "markdown",
      "source": [
        "Se busca entrenar un perceptron simple que aprenda las funciones logicas AND, OR, XOR. +1 = True, -1 = False.\n",
        "En primer lugar con datos bipolares (-1,1) y luego con binarios (0,1)"
      ],
      "metadata": {
        "id": "wTQgbsI7hi8q"
      }
    },
    {
      "cell_type": "markdown",
      "source": [
        "Entreno primero con datos bipolares y luego con binarios.\n",
        "\\\n",
        "obs: Si quiero entrenar AND, y XOR solo cambio el logic_target donde en el +1 OR +1 cambio TRUE por FALSE."
      ],
      "metadata": {
        "id": "YWhHskGmt6Bv"
      }
    },
    {
      "cell_type": "code",
      "source": [
        "logic_input = np.array( [\n",
        "                        [-1,-1,1],\n",
        "                        [-1,+1,1],\n",
        "                        [+1,-1,1],\n",
        "                        [+1,+1,1]\n",
        "                         ] ) # Vendria a ser el x, dim = (P,N+1) = (4,3)\n",
        "# Primera columna es el AND, la segunda el OR\n",
        "logic_target = np.array( [\n",
        "                        [-1,-1],\n",
        "                        [-1,+1],\n",
        "                        [-1,+1],\n",
        "                        [+1,+1]\n",
        "                          ] ) # Vendria a ser el Z, dim = (P,M) = (4,2)\n",
        "\n",
        "logic_input_binario = np.array( [\n",
        "                        [0,0,1],\n",
        "                        [0,1,1],\n",
        "                        [1,0,1],\n",
        "                        [1,1,1]\n",
        "                         ] ) # Vendria a ser el x, dim = (P,N+1) = (4,3)\n",
        "# Primera columna es el AND, la segunda el OR\n",
        "logic_target_binario = np.array( [\n",
        "                        [0,0],\n",
        "                        [0,1],\n",
        "                        [0,1],\n",
        "                        [1,1]\n",
        "                          ] ) # Vendria a ser el Z, dim = (P,M) = (4,2)"
      ],
      "metadata": {
        "id": "wowuxfsLhapR"
      },
      "execution_count": 49,
      "outputs": []
    },
    {
      "cell_type": "code",
      "source": [
        "# N = 2, P = 4, M = 2\n",
        "np.random.seed(123)\n",
        "w2 = np.random.normal(0,0.1,(3,2)) # dim = (N+1,M) = (3,2)\n",
        "\n",
        "i2 = 0\n",
        "\n",
        "y2 = np.dot(logic_input,w2)\n",
        "y2_binario = np.dot(logic_input_binario,w2)\n",
        "\n",
        "d2 = logic_target - y2\n",
        "d2_binario = logic_target_binario - y2_binario\n",
        "\n",
        "delta_w2 = np.dot(logic_input.T,d2)\n",
        "delta_w2_binario = np.dot(logic_input_binario.T,d2_binario)\n",
        "\n",
        "epsilon2 = 0.001\n",
        "\n",
        "w2 = w2 + epsilon*delta_w2\n",
        "w2_binario = w2 + epsilon2*delta_w2_binario"
      ],
      "metadata": {
        "id": "fwxQPih_irQ0"
      },
      "execution_count": 50,
      "outputs": []
    },
    {
      "cell_type": "code",
      "source": [
        "di2 = d2\n",
        "di2_binario = d2_binario\n",
        "\n",
        "error2 = np.sum(di2**2)\n",
        "error2_binario = np.sum(di2_binario**2)\n",
        "\n",
        "i2 = 0\n",
        "i2_binario = 0\n",
        "\n",
        "errores2 = []\n",
        "errores2_binario = []\n",
        "\n",
        "while (error2 > epsilon) and (i2 < 999):\n",
        "  yi2 = np.sign( np.dot(logic_input,w2) )\n",
        "  di2 = logic_target - yi2\n",
        "  error2 = np.sum(di2**2)\n",
        "  errores2.append(error2)\n",
        "  delta_wi2 = np.dot(logic_input.T,di2)\n",
        "  w2 = w2 + epsilon*delta_wi2\n",
        "  i2 += 1\n",
        "  print('Error:',error2,'Iteracion',i2)"
      ],
      "metadata": {
        "colab": {
          "base_uri": "https://localhost:8080/"
        },
        "id": "NV19kpCpkli8",
        "outputId": "c809584f-4876-42cb-b3d0-797a62b5cb09"
      },
      "execution_count": 51,
      "outputs": [
        {
          "output_type": "stream",
          "name": "stdout",
          "text": [
            "Error: 20.0 Iteracion 1\n",
            "Error: 20.0 Iteracion 2\n",
            "Error: 16.0 Iteracion 3\n",
            "Error: 16.0 Iteracion 4\n",
            "Error: 16.0 Iteracion 5\n",
            "Error: 16.0 Iteracion 6\n",
            "Error: 16.0 Iteracion 7\n",
            "Error: 16.0 Iteracion 8\n",
            "Error: 16.0 Iteracion 9\n",
            "Error: 16.0 Iteracion 10\n",
            "Error: 16.0 Iteracion 11\n",
            "Error: 16.0 Iteracion 12\n",
            "Error: 16.0 Iteracion 13\n",
            "Error: 16.0 Iteracion 14\n",
            "Error: 16.0 Iteracion 15\n",
            "Error: 16.0 Iteracion 16\n",
            "Error: 16.0 Iteracion 17\n",
            "Error: 16.0 Iteracion 18\n",
            "Error: 16.0 Iteracion 19\n",
            "Error: 12.0 Iteracion 20\n",
            "Error: 12.0 Iteracion 21\n",
            "Error: 12.0 Iteracion 22\n",
            "Error: 12.0 Iteracion 23\n",
            "Error: 8.0 Iteracion 24\n",
            "Error: 12.0 Iteracion 25\n",
            "Error: 12.0 Iteracion 26\n",
            "Error: 8.0 Iteracion 27\n",
            "Error: 12.0 Iteracion 28\n",
            "Error: 12.0 Iteracion 29\n",
            "Error: 8.0 Iteracion 30\n",
            "Error: 8.0 Iteracion 31\n",
            "Error: 8.0 Iteracion 32\n",
            "Error: 4.0 Iteracion 33\n",
            "Error: 4.0 Iteracion 34\n",
            "Error: 8.0 Iteracion 35\n",
            "Error: 4.0 Iteracion 36\n",
            "Error: 4.0 Iteracion 37\n",
            "Error: 8.0 Iteracion 38\n",
            "Error: 4.0 Iteracion 39\n",
            "Error: 4.0 Iteracion 40\n",
            "Error: 8.0 Iteracion 41\n",
            "Error: 4.0 Iteracion 42\n",
            "Error: 4.0 Iteracion 43\n",
            "Error: 8.0 Iteracion 44\n",
            "Error: 4.0 Iteracion 45\n",
            "Error: 4.0 Iteracion 46\n",
            "Error: 4.0 Iteracion 47\n",
            "Error: 0.0 Iteracion 48\n"
          ]
        }
      ]
    },
    {
      "cell_type": "code",
      "source": [
        "while (error2_binario > epsilon2) and (i2_binario < 999):\n",
        "  yi2_bi = (np.sign( np.dot(logic_input_binario,w2_binario) )+1) /2\n",
        "  di2_bi = logic_target_binario - yi2_bi\n",
        "  error2_binario = np.sum(di2_bi**2)\n",
        "  errores2_binario.append(error2_binario)\n",
        "  delta_wi2_bi = np.dot(logic_input_binario.T,di2_bi)\n",
        "  w2_binario = w2_binario + epsilon*delta_wi2_bi\n",
        "  i2_binario += 1\n",
        "  print('Error:',error2_binario,'Iteracion',i2_binario)\n"
      ],
      "metadata": {
        "colab": {
          "base_uri": "https://localhost:8080/"
        },
        "id": "MIARmXt0AGdM",
        "outputId": "9eb86936-0cbe-44bb-ed62-505f876cce76"
      },
      "execution_count": 65,
      "outputs": [
        {
          "output_type": "stream",
          "name": "stdout",
          "text": [
            "Error: 4.0 Iteracion 100\n",
            "Error: 3.0 Iteracion 101\n",
            "Error: 4.0 Iteracion 102\n",
            "Error: 3.0 Iteracion 103\n",
            "Error: 4.0 Iteracion 104\n",
            "Error: 2.0 Iteracion 105\n",
            "Error: 3.0 Iteracion 106\n",
            "Error: 2.0 Iteracion 107\n",
            "Error: 3.0 Iteracion 108\n",
            "Error: 2.0 Iteracion 109\n",
            "Error: 2.0 Iteracion 110\n",
            "Error: 1.0 Iteracion 111\n",
            "Error: 2.0 Iteracion 112\n",
            "Error: 1.0 Iteracion 113\n",
            "Error: 2.0 Iteracion 114\n",
            "Error: 1.0 Iteracion 115\n",
            "Error: 2.0 Iteracion 116\n",
            "Error: 1.0 Iteracion 117\n",
            "Error: 2.0 Iteracion 118\n",
            "Error: 1.0 Iteracion 119\n",
            "Error: 2.0 Iteracion 120\n",
            "Error: 1.0 Iteracion 121\n",
            "Error: 2.0 Iteracion 122\n",
            "Error: 1.0 Iteracion 123\n",
            "Error: 2.0 Iteracion 124\n",
            "Error: 1.0 Iteracion 125\n",
            "Error: 2.0 Iteracion 126\n",
            "Error: 1.0 Iteracion 127\n",
            "Error: 2.0 Iteracion 128\n",
            "Error: 1.0 Iteracion 129\n",
            "Error: 2.0 Iteracion 130\n",
            "Error: 1.0 Iteracion 131\n",
            "Error: 2.0 Iteracion 132\n",
            "Error: 1.0 Iteracion 133\n",
            "Error: 2.0 Iteracion 134\n",
            "Error: 1.0 Iteracion 135\n",
            "Error: 2.0 Iteracion 136\n",
            "Error: 1.0 Iteracion 137\n",
            "Error: 2.0 Iteracion 138\n",
            "Error: 1.0 Iteracion 139\n",
            "Error: 2.0 Iteracion 140\n",
            "Error: 1.0 Iteracion 141\n",
            "Error: 2.0 Iteracion 142\n",
            "Error: 1.0 Iteracion 143\n",
            "Error: 2.0 Iteracion 144\n",
            "Error: 1.0 Iteracion 145\n",
            "Error: 2.0 Iteracion 146\n",
            "Error: 1.0 Iteracion 147\n",
            "Error: 2.0 Iteracion 148\n",
            "Error: 1.0 Iteracion 149\n",
            "Error: 2.0 Iteracion 150\n",
            "Error: 1.0 Iteracion 151\n",
            "Error: 2.0 Iteracion 152\n",
            "Error: 1.0 Iteracion 153\n",
            "Error: 2.0 Iteracion 154\n",
            "Error: 1.0 Iteracion 155\n",
            "Error: 2.0 Iteracion 156\n",
            "Error: 1.0 Iteracion 157\n",
            "Error: 2.0 Iteracion 158\n",
            "Error: 1.0 Iteracion 159\n",
            "Error: 2.0 Iteracion 160\n",
            "Error: 1.0 Iteracion 161\n",
            "Error: 2.0 Iteracion 162\n",
            "Error: 1.0 Iteracion 163\n",
            "Error: 2.0 Iteracion 164\n",
            "Error: 1.0 Iteracion 165\n",
            "Error: 2.0 Iteracion 166\n",
            "Error: 1.0 Iteracion 167\n",
            "Error: 2.0 Iteracion 168\n",
            "Error: 1.0 Iteracion 169\n",
            "Error: 2.0 Iteracion 170\n",
            "Error: 1.0 Iteracion 171\n",
            "Error: 2.0 Iteracion 172\n",
            "Error: 1.0 Iteracion 173\n",
            "Error: 2.0 Iteracion 174\n",
            "Error: 1.0 Iteracion 175\n",
            "Error: 2.0 Iteracion 176\n",
            "Error: 1.0 Iteracion 177\n",
            "Error: 2.0 Iteracion 178\n",
            "Error: 1.0 Iteracion 179\n",
            "Error: 2.0 Iteracion 180\n",
            "Error: 1.0 Iteracion 181\n",
            "Error: 2.0 Iteracion 182\n",
            "Error: 1.0 Iteracion 183\n",
            "Error: 2.0 Iteracion 184\n",
            "Error: 1.0 Iteracion 185\n",
            "Error: 2.0 Iteracion 186\n",
            "Error: 1.0 Iteracion 187\n",
            "Error: 2.0 Iteracion 188\n",
            "Error: 1.0 Iteracion 189\n",
            "Error: 2.0 Iteracion 190\n",
            "Error: 1.0 Iteracion 191\n",
            "Error: 2.0 Iteracion 192\n",
            "Error: 1.0 Iteracion 193\n",
            "Error: 2.0 Iteracion 194\n",
            "Error: 1.0 Iteracion 195\n",
            "Error: 2.0 Iteracion 196\n",
            "Error: 1.0 Iteracion 197\n",
            "Error: 2.0 Iteracion 198\n",
            "Error: 1.0 Iteracion 199\n",
            "Error: 2.0 Iteracion 200\n",
            "Error: 1.0 Iteracion 201\n",
            "Error: 2.0 Iteracion 202\n",
            "Error: 1.0 Iteracion 203\n",
            "Error: 2.0 Iteracion 204\n",
            "Error: 1.0 Iteracion 205\n",
            "Error: 2.0 Iteracion 206\n",
            "Error: 1.0 Iteracion 207\n",
            "Error: 2.0 Iteracion 208\n",
            "Error: 1.0 Iteracion 209\n",
            "Error: 2.0 Iteracion 210\n",
            "Error: 1.0 Iteracion 211\n",
            "Error: 2.0 Iteracion 212\n",
            "Error: 1.0 Iteracion 213\n",
            "Error: 2.0 Iteracion 214\n",
            "Error: 1.0 Iteracion 215\n",
            "Error: 2.0 Iteracion 216\n",
            "Error: 1.0 Iteracion 217\n",
            "Error: 2.0 Iteracion 218\n",
            "Error: 1.0 Iteracion 219\n",
            "Error: 2.0 Iteracion 220\n",
            "Error: 1.0 Iteracion 221\n",
            "Error: 2.0 Iteracion 222\n",
            "Error: 1.0 Iteracion 223\n",
            "Error: 2.0 Iteracion 224\n",
            "Error: 1.0 Iteracion 225\n",
            "Error: 2.0 Iteracion 226\n",
            "Error: 1.0 Iteracion 227\n",
            "Error: 2.0 Iteracion 228\n",
            "Error: 1.0 Iteracion 229\n",
            "Error: 2.0 Iteracion 230\n",
            "Error: 1.0 Iteracion 231\n",
            "Error: 2.0 Iteracion 232\n",
            "Error: 1.0 Iteracion 233\n",
            "Error: 2.0 Iteracion 234\n",
            "Error: 1.0 Iteracion 235\n",
            "Error: 2.0 Iteracion 236\n",
            "Error: 1.0 Iteracion 237\n",
            "Error: 2.0 Iteracion 238\n",
            "Error: 1.0 Iteracion 239\n",
            "Error: 2.0 Iteracion 240\n",
            "Error: 1.0 Iteracion 241\n",
            "Error: 2.0 Iteracion 242\n",
            "Error: 1.0 Iteracion 243\n",
            "Error: 2.0 Iteracion 244\n",
            "Error: 1.0 Iteracion 245\n",
            "Error: 2.0 Iteracion 246\n",
            "Error: 1.0 Iteracion 247\n",
            "Error: 2.0 Iteracion 248\n",
            "Error: 1.0 Iteracion 249\n",
            "Error: 2.0 Iteracion 250\n",
            "Error: 1.0 Iteracion 251\n",
            "Error: 2.0 Iteracion 252\n",
            "Error: 1.0 Iteracion 253\n",
            "Error: 2.0 Iteracion 254\n",
            "Error: 1.0 Iteracion 255\n",
            "Error: 2.0 Iteracion 256\n",
            "Error: 1.0 Iteracion 257\n",
            "Error: 2.0 Iteracion 258\n",
            "Error: 1.0 Iteracion 259\n",
            "Error: 2.0 Iteracion 260\n",
            "Error: 1.0 Iteracion 261\n",
            "Error: 2.0 Iteracion 262\n",
            "Error: 1.0 Iteracion 263\n",
            "Error: 2.0 Iteracion 264\n",
            "Error: 1.0 Iteracion 265\n",
            "Error: 2.0 Iteracion 266\n",
            "Error: 1.0 Iteracion 267\n",
            "Error: 2.0 Iteracion 268\n",
            "Error: 1.0 Iteracion 269\n",
            "Error: 2.0 Iteracion 270\n",
            "Error: 1.0 Iteracion 271\n",
            "Error: 2.0 Iteracion 272\n",
            "Error: 1.0 Iteracion 273\n",
            "Error: 2.0 Iteracion 274\n",
            "Error: 1.0 Iteracion 275\n",
            "Error: 2.0 Iteracion 276\n",
            "Error: 1.0 Iteracion 277\n",
            "Error: 2.0 Iteracion 278\n",
            "Error: 1.0 Iteracion 279\n",
            "Error: 2.0 Iteracion 280\n",
            "Error: 1.0 Iteracion 281\n",
            "Error: 2.0 Iteracion 282\n",
            "Error: 1.0 Iteracion 283\n",
            "Error: 2.0 Iteracion 284\n",
            "Error: 1.0 Iteracion 285\n",
            "Error: 2.0 Iteracion 286\n",
            "Error: 1.0 Iteracion 287\n",
            "Error: 2.0 Iteracion 288\n",
            "Error: 1.0 Iteracion 289\n",
            "Error: 2.0 Iteracion 290\n",
            "Error: 1.0 Iteracion 291\n",
            "Error: 2.0 Iteracion 292\n",
            "Error: 1.0 Iteracion 293\n",
            "Error: 2.0 Iteracion 294\n",
            "Error: 1.0 Iteracion 295\n",
            "Error: 2.0 Iteracion 296\n",
            "Error: 1.0 Iteracion 297\n",
            "Error: 2.0 Iteracion 298\n",
            "Error: 1.0 Iteracion 299\n",
            "Error: 2.0 Iteracion 300\n",
            "Error: 1.0 Iteracion 301\n",
            "Error: 2.0 Iteracion 302\n",
            "Error: 1.0 Iteracion 303\n",
            "Error: 2.0 Iteracion 304\n",
            "Error: 1.0 Iteracion 305\n",
            "Error: 2.0 Iteracion 306\n",
            "Error: 1.0 Iteracion 307\n",
            "Error: 2.0 Iteracion 308\n",
            "Error: 1.0 Iteracion 309\n",
            "Error: 2.0 Iteracion 310\n",
            "Error: 1.0 Iteracion 311\n",
            "Error: 2.0 Iteracion 312\n",
            "Error: 1.0 Iteracion 313\n",
            "Error: 2.0 Iteracion 314\n",
            "Error: 1.0 Iteracion 315\n",
            "Error: 1.0 Iteracion 316\n",
            "Error: 1.0 Iteracion 317\n",
            "Error: 0.0 Iteracion 318\n"
          ]
        }
      ]
    },
    {
      "cell_type": "code",
      "source": [
        "fig, ax = plt.subplots(1,2)\n",
        "\n",
        "ax[0].plot(errores2)\n",
        "ax[0].set_xlabel('Iteraciones')\n",
        "ax[0].set_ylabel('Error')\n",
        "ax[0].set_title('Datos Bipolares')\n",
        "\n",
        "ax[1].plot(errores2_binario)\n",
        "ax[1].set_xlabel('Iteraciones')\n",
        "ax[1].set_ylabel('Error')\n",
        "ax[1].set_title('Datos Binarios')\n",
        "\n",
        "plt.show()"
      ],
      "metadata": {
        "colab": {
          "base_uri": "https://localhost:8080/",
          "height": 472
        },
        "id": "eeUeLGcRmBcf",
        "outputId": "32e726b9-e812-42c2-9ea4-dae66343829e"
      },
      "execution_count": 66,
      "outputs": [
        {
          "output_type": "display_data",
          "data": {
            "text/plain": [
              "<Figure size 640x480 with 2 Axes>"
            ],
            "image/png": "[encoded data removed]"
          },
          "metadata": {}
        }
      ]
    },
    {
      "cell_type": "markdown",
      "source": [
        "### Aprendizaje de los datos dados en archivos.csv\n",
        "### 2)"
      ],
      "metadata": {
        "id": "tX2Yaq6NDILz"
      }
    },
    {
      "cell_type": "code",
      "source": [
        "import pandas as pd\n",
        "\n",
        "datos1 = pd.read_csv('/content/p11_ej2.csv', header = None)\n",
        "datos2 = pd.read_csv('/content/p11_ej3.csv', header = None)\n",
        "datos3 = pd.read_csv('/content/p11_ej4.csv', header = None)\n",
        "datos4 = pd.read_csv('/content/p11_ej5.csv', header = None)\n",
        "datos5 = pd.read_csv('/content/p11_ej6.csv', header = None)"
      ],
      "metadata": {
        "id": "Jlans9P3A8V9"
      },
      "execution_count": 67,
      "outputs": []
    },
    {
      "cell_type": "code",
      "source": [
        "datos1.head()"
      ],
      "metadata": {
        "colab": {
          "base_uri": "https://localhost:8080/",
          "height": 204
        },
        "id": "J0ALcij-2qij",
        "outputId": "4fbf04dc-4092-464d-8138-cdc3646e4b6d"
      },
      "execution_count": 55,
      "outputs": [
        {
          "output_type": "execute_result",
          "data": {
            "text/plain": [
              "          0         1  2\n",
              "0  3.358239 -0.244076 -1\n",
              "1  1.274919  0.393130 -1\n",
              "2 -0.914396 -3.892225  1\n",
              "3  3.734271  1.646457 -1\n",
              "4 -3.754488  1.524151  1"
            ],
            "text/html": [
              "\n",
              "  <div id=\"df-2a93048e-0cdd-44a9-9a98-521286105296\">\n",
              "    <div class=\"colab-df-container\">\n",
              "      <div>\n",
              "<style scoped>\n",
              "    .dataframe tbody tr th:only-of-type {\n",
              "        vertical-align: middle;\n",
              "    }\n",
              "\n",
              "    .dataframe tbody tr th {\n",
              "        vertical-align: top;\n",
              "    }\n",
              "\n",
              "    .dataframe thead th {\n",
              "        text-align: right;\n",
              "    }\n",
              "</style>\n",
              "<table border=\"1\" class=\"dataframe\">\n",
              "  <thead>\n",
              "    <tr style=\"text-align: right;\">\n",
              "      <th></th>\n",
              "      <th>0</th>\n",
              "      <th>1</th>\n",
              "      <th>2</th>\n",
              "    </tr>\n",
              "  </thead>\n",
              "  <tbody>\n",
              "    <tr>\n",
              "      <th>0</th>\n",
              "      <td>3.358239</td>\n",
              "      <td>-0.244076</td>\n",
              "      <td>-1</td>\n",
              "    </tr>\n",
              "    <tr>\n",
              "      <th>1</th>\n",
              "      <td>1.274919</td>\n",
              "      <td>0.393130</td>\n",
              "      <td>-1</td>\n",
              "    </tr>\n",
              "    <tr>\n",
              "      <th>2</th>\n",
              "      <td>-0.914396</td>\n",
              "      <td>-3.892225</td>\n",
              "      <td>1</td>\n",
              "    </tr>\n",
              "    <tr>\n",
              "      <th>3</th>\n",
              "      <td>3.734271</td>\n",
              "      <td>1.646457</td>\n",
              "      <td>-1</td>\n",
              "    </tr>\n",
              "    <tr>\n",
              "      <th>4</th>\n",
              "      <td>-3.754488</td>\n",
              "      <td>1.524151</td>\n",
              "      <td>1</td>\n",
              "    </tr>\n",
              "  </tbody>\n",
              "</table>\n",
              "</div>\n",
              "      <button class=\"colab-df-convert\" onclick=\"convertToInteractive('df-2a93048e-0cdd-44a9-9a98-521286105296')\"\n",
              "              title=\"Convert this dataframe to an interactive table.\"\n",
              "              style=\"display:none;\">\n",
              "        \n",
              "  <svg xmlns=\"http://www.w3.org/2000/svg\" height=\"24px\"viewBox=\"0 0 24 24\"\n",
              "       width=\"24px\">\n",
              "    <path d=\"M0 0h24v24H0V0z\" fill=\"none\"/>\n",
              "    <path d=\"M18.56 5.44l.94 2.06.94-2.06 2.06-.94-2.06-.94-.94-2.06-.94 2.06-2.06.94zm-11 1L8.5 8.5l.94-2.06 2.06-.94-2.06-.94L8.5 2.5l-.94 2.06-2.06.94zm10 10l.94 2.06.94-2.06 2.06-.94-2.06-.94-.94-2.06-.94 2.06-2.06.94z\"/><path d=\"M17.41 7.96l-1.37-1.37c-.4-.4-.92-.59-1.43-.59-.52 0-1.04.2-1.43.59L10.3 9.45l-7.72 7.72c-.78.78-.78 2.05 0 2.83L4 21.41c.39.39.9.59 1.41.59.51 0 1.02-.2 1.41-.59l7.78-7.78 2.81-2.81c.8-.78.8-2.07 0-2.86zM5.41 20L4 18.59l7.72-7.72 1.47 1.35L5.41 20z\"/>\n",
              "  </svg>\n",
              "      </button>\n",
              "      \n",
              "  <style>\n",
              "    .colab-df-container {\n",
              "      display:flex;\n",
              "      flex-wrap:wrap;\n",
              "      gap: 12px;\n",
              "    }\n",
              "\n",
              "    .colab-df-convert {\n",
              "      background-color: #E8F0FE;\n",
              "      border: none;\n",
              "      border-radius: 50%;\n",
              "      cursor: pointer;\n",
              "      display: none;\n",
              "      fill: #1967D2;\n",
              "      height: 32px;\n",
              "      padding: 0 0 0 0;\n",
              "      width: 32px;\n",
              "    }\n",
              "\n",
              "    .colab-df-convert:hover {\n",
              "      background-color: #E2EBFA;\n",
              "      box-shadow: 0px 1px 2px rgba(60, 64, 67, 0.3), 0px 1px 3px 1px rgba(60, 64, 67, 0.15);\n",
              "      fill: #174EA6;\n",
              "    }\n",
              "\n",
              "    [theme=dark] .colab-df-convert {\n",
              "      background-color: #3B4455;\n",
              "      fill: #D2E3FC;\n",
              "    }\n",
              "\n",
              "    [theme=dark] .colab-df-convert:hover {\n",
              "      background-color: #434B5C;\n",
              "      box-shadow: 0px 1px 3px 1px rgba(0, 0, 0, 0.15);\n",
              "      filter: drop-shadow(0px 1px 2px rgba(0, 0, 0, 0.3));\n",
              "      fill: #FFFFFF;\n",
              "    }\n",
              "  </style>\n",
              "\n",
              "      <script>\n",
              "        const buttonEl =\n",
              "          document.querySelector('#df-2a93048e-0cdd-44a9-9a98-521286105296 button.colab-df-convert');\n",
              "        buttonEl.style.display =\n",
              "          google.colab.kernel.accessAllowed ? 'block' : 'none';\n",
              "\n",
              "        async function convertToInteractive(key) {\n",
              "          const element = document.querySelector('#df-2a93048e-0cdd-44a9-9a98-521286105296');\n",
              "          const dataTable =\n",
              "            await google.colab.kernel.invokeFunction('convertToInteractive',\n",
              "                                                     [key], {});\n",
              "          if (!dataTable) return;\n",
              "\n",
              "          const docLinkHtml = 'Like what you see? Visit the ' +\n",
              "            '<a target=\"_blank\" href=https://colab.research.google.com/notebooks/data_table.ipynb>data table notebook</a>'\n",
              "            + ' to learn more about interactive tables.';\n",
              "          element.innerHTML = '';\n",
              "          dataTable['output_type'] = 'display_data';\n",
              "          await google.colab.output.renderOutput(dataTable, element);\n",
              "          const docLink = document.createElement('div');\n",
              "          docLink.innerHTML = docLinkHtml;\n",
              "          element.appendChild(docLink);\n",
              "        }\n",
              "      </script>\n",
              "    </div>\n",
              "  </div>\n",
              "  "
            ]
          },
          "metadata": {},
          "execution_count": 55
        }
      ]
    },
    {
      "cell_type": "code",
      "source": [
        "print('Dimensiones de dataset1')\n",
        "x1 = np.concatenate( ( datos1[[0]], datos1[[1]], np.ones( (len(datos1.index),1) ) ) ,axis=1)\n",
        "z1 = np.array(datos1[[2]])\n",
        "display('x',x1.shape)\n",
        "display('Z',z1.shape)\n",
        "\n",
        "print(\"-------------\")\n",
        "\n",
        "print('Dimensiones de dataset2')\n",
        "x2 = np.concatenate( ( datos2[[0]], datos2[[1]], np.ones( (len(datos2.index),1) ) ) ,axis=1)\n",
        "z2 = np.array(datos2[[2]])\n",
        "display('x',x2.shape)\n",
        "display('Z',z2.shape)\n",
        "\n",
        "print(\"-------------\")\n",
        "\n",
        "print('Dimensiones de dataset3')\n",
        "x3 = np.concatenate( ( datos3[[0]], datos3[[1]], np.ones( (len(datos3.index),1) ) ) ,axis=1)\n",
        "z3 = np.array(datos3[[2]])\n",
        "display('x',x3.shape)\n",
        "display('Z',z3.shape)\n",
        "\n",
        "print(\"-------------\")\n",
        "\n",
        "print('Dimensiones de dataset4')\n",
        "x4 = np.concatenate( ( datos4[[0]], datos4[[1]], np.ones( (len(datos4.index),1) ) ) ,axis=1)\n",
        "z4 = np.array(datos4[[2]])\n",
        "display('x',x4.shape)\n",
        "display('Z',z4.shape)\n",
        "\n",
        "print(\"-------------\")\n",
        "\n",
        "print('Dimensiones de dataset5')\n",
        "x5 = np.concatenate( ( datos5[[0]], datos5[[1]], np.ones( (len(datos5.index),1) ) ) ,axis=1)\n",
        "z5 = np.array(datos5[[2]])\n",
        "display('x',x5.shape)\n",
        "display('Z',z5.shape)"
      ],
      "metadata": {
        "colab": {
          "base_uri": "https://localhost:8080/",
          "height": 520
        },
        "id": "fqS2bPPvFMXR",
        "outputId": "a3cc6941-d16d-456c-ebd5-a5a773e7906b"
      },
      "execution_count": 56,
      "outputs": [
        {
          "output_type": "stream",
          "name": "stdout",
          "text": [
            "Dimensiones de dataset1\n"
          ]
        },
        {
          "output_type": "display_data",
          "data": {
            "text/plain": [
              "'x'"
            ],
            "application/vnd.google.colaboratory.intrinsic+json": {
              "type": "string"
            }
          },
          "metadata": {}
        },
        {
          "output_type": "display_data",
          "data": {
            "text/plain": [
              "(25, 3)"
            ]
          },
          "metadata": {}
        },
        {
          "output_type": "display_data",
          "data": {
            "text/plain": [
              "'Z'"
            ],
            "application/vnd.google.colaboratory.intrinsic+json": {
              "type": "string"
            }
          },
          "metadata": {}
        },
        {
          "output_type": "display_data",
          "data": {
            "text/plain": [
              "(25, 1)"
            ]
          },
          "metadata": {}
        },
        {
          "output_type": "stream",
          "name": "stdout",
          "text": [
            "-------------\n",
            "Dimensiones de dataset2\n"
          ]
        },
        {
          "output_type": "display_data",
          "data": {
            "text/plain": [
              "'x'"
            ],
            "application/vnd.google.colaboratory.intrinsic+json": {
              "type": "string"
            }
          },
          "metadata": {}
        },
        {
          "output_type": "display_data",
          "data": {
            "text/plain": [
              "(50, 3)"
            ]
          },
          "metadata": {}
        },
        {
          "output_type": "display_data",
          "data": {
            "text/plain": [
              "'Z'"
            ],
            "application/vnd.google.colaboratory.intrinsic+json": {
              "type": "string"
            }
          },
          "metadata": {}
        },
        {
          "output_type": "display_data",
          "data": {
            "text/plain": [
              "(50, 1)"
            ]
          },
          "metadata": {}
        },
        {
          "output_type": "stream",
          "name": "stdout",
          "text": [
            "-------------\n",
            "Dimensiones de dataset3\n"
          ]
        },
        {
          "output_type": "display_data",
          "data": {
            "text/plain": [
              "'x'"
            ],
            "application/vnd.google.colaboratory.intrinsic+json": {
              "type": "string"
            }
          },
          "metadata": {}
        },
        {
          "output_type": "display_data",
          "data": {
            "text/plain": [
              "(100, 3)"
            ]
          },
          "metadata": {}
        },
        {
          "output_type": "display_data",
          "data": {
            "text/plain": [
              "'Z'"
            ],
            "application/vnd.google.colaboratory.intrinsic+json": {
              "type": "string"
            }
          },
          "metadata": {}
        },
        {
          "output_type": "display_data",
          "data": {
            "text/plain": [
              "(100, 1)"
            ]
          },
          "metadata": {}
        },
        {
          "output_type": "stream",
          "name": "stdout",
          "text": [
            "-------------\n",
            "Dimensiones de dataset4\n"
          ]
        },
        {
          "output_type": "display_data",
          "data": {
            "text/plain": [
              "'x'"
            ],
            "application/vnd.google.colaboratory.intrinsic+json": {
              "type": "string"
            }
          },
          "metadata": {}
        },
        {
          "output_type": "display_data",
          "data": {
            "text/plain": [
              "(25, 3)"
            ]
          },
          "metadata": {}
        },
        {
          "output_type": "display_data",
          "data": {
            "text/plain": [
              "'Z'"
            ],
            "application/vnd.google.colaboratory.intrinsic+json": {
              "type": "string"
            }
          },
          "metadata": {}
        },
        {
          "output_type": "display_data",
          "data": {
            "text/plain": [
              "(25, 1)"
            ]
          },
          "metadata": {}
        },
        {
          "output_type": "stream",
          "name": "stdout",
          "text": [
            "-------------\n",
            "Dimensiones de dataset5\n"
          ]
        },
        {
          "output_type": "display_data",
          "data": {
            "text/plain": [
              "'x'"
            ],
            "application/vnd.google.colaboratory.intrinsic+json": {
              "type": "string"
            }
          },
          "metadata": {}
        },
        {
          "output_type": "display_data",
          "data": {
            "text/plain": [
              "(90, 3)"
            ]
          },
          "metadata": {}
        },
        {
          "output_type": "display_data",
          "data": {
            "text/plain": [
              "'Z'"
            ],
            "application/vnd.google.colaboratory.intrinsic+json": {
              "type": "string"
            }
          },
          "metadata": {}
        },
        {
          "output_type": "display_data",
          "data": {
            "text/plain": [
              "(90, 1)"
            ]
          },
          "metadata": {}
        }
      ]
    },
    {
      "cell_type": "code",
      "source": [
        "np.random.seed(123)\n",
        "\n",
        "wd = np.random.normal(0,0.1,(3,1))\n",
        "\n",
        "yd1 = np.dot(x1,wd)\n",
        "yd2 = np.dot(x2,wd)\n",
        "yd3 = np.dot(x3,wd)\n",
        "yd4 = np.dot(x4,wd)\n",
        "yd5 = np.dot(x5,wd)\n",
        "\n",
        "d1 = z1 - yd1\n",
        "d2 = z2 - yd2\n",
        "d3 = z3 - yd3\n",
        "d4 = z4 - yd4\n",
        "d5 = z5 - yd5\n",
        "\n",
        "delta_wd1 = np.dot(x1.T,d1)\n",
        "delta_wd2 = np.dot(x2.T,d2)\n",
        "delta_wd3 = np.dot(x3.T,d3)\n",
        "delta_wd4 = np.dot(x4.T,d4)\n",
        "delta_wd5 = np.dot(x5.T,d5)\n",
        "\n",
        "\n",
        "wd1 = wd + epsilon*delta_wd1\n",
        "wd2 = wd + epsilon*delta_wd2\n",
        "wd3 = wd + epsilon*delta_wd3\n",
        "wd4 = wd + epsilon*delta_wd4\n",
        "wd5 = wd + epsilon*delta_wd5"
      ],
      "metadata": {
        "id": "xQUeWzE6Di4D"
      },
      "execution_count": 57,
      "outputs": []
    },
    {
      "cell_type": "code",
      "source": [
        "di1 = d1\n",
        "\n",
        "errord1 = np.sum(di1**2)\n",
        "\n",
        "id1 = 0\n",
        "\n",
        "erroresd1 = []\n",
        "\n",
        "while (errord1 > epsilon) and (id1 < 99):\n",
        "  yd1 = np.sign( np.dot(x1,wd1) )\n",
        "  d1 = z1 - yd1\n",
        "  errord1 = np.sum(d1**2)\n",
        "  erroresd1.append(errord1)\n",
        "  delta_wd1 = np.dot(x1.T,d1)\n",
        "  wd1 = wd1 + epsilon*delta_wd1\n",
        "  id1 += 1\n",
        "  print('Error:',errord1,'Iteracion',id1)"
      ],
      "metadata": {
        "colab": {
          "base_uri": "https://localhost:8080/"
        },
        "id": "imD-7DBdElMd",
        "outputId": "c6abb4d4-6ebf-4c7b-9b57-0e732cc09b73"
      },
      "execution_count": 58,
      "outputs": [
        {
          "output_type": "stream",
          "name": "stdout",
          "text": [
            "Error: 32.0 Iteracion 1\n",
            "Error: 16.0 Iteracion 2\n",
            "Error: 20.0 Iteracion 3\n",
            "Error: 20.0 Iteracion 4\n",
            "Error: 20.0 Iteracion 5\n",
            "Error: 16.0 Iteracion 6\n",
            "Error: 12.0 Iteracion 7\n",
            "Error: 8.0 Iteracion 8\n",
            "Error: 8.0 Iteracion 9\n",
            "Error: 4.0 Iteracion 10\n",
            "Error: 4.0 Iteracion 11\n",
            "Error: 8.0 Iteracion 12\n",
            "Error: 4.0 Iteracion 13\n",
            "Error: 4.0 Iteracion 14\n",
            "Error: 0.0 Iteracion 15\n"
          ]
        }
      ]
    },
    {
      "cell_type": "code",
      "source": [
        "di2 = d2\n",
        "\n",
        "errord2 = np.sum(di2**2)\n",
        "\n",
        "id2 = 0\n",
        "\n",
        "erroresd2 = []\n",
        "\n",
        "while (errord2 > epsilon) and (id2 < 99):\n",
        "  yd2 = np.sign( np.dot(x2,wd2) )\n",
        "  d2 = z2 - yd2\n",
        "  errord2 = np.sum(d2**2)\n",
        "  erroresd2.append(errord2)\n",
        "  delta_wd2 = np.dot(x2.T,d2)\n",
        "  wd2 = wd2 + epsilon*delta_wd2\n",
        "  id2 += 1\n",
        "  print('Error:',errord2,'Iteracion',id2)"
      ],
      "metadata": {
        "colab": {
          "base_uri": "https://localhost:8080/"
        },
        "id": "t5ZQMNB_HwI-",
        "outputId": "a4b94255-3a18-4c77-93e7-e1d6682d067b"
      },
      "execution_count": 59,
      "outputs": [
        {
          "output_type": "stream",
          "name": "stdout",
          "text": [
            "Error: 12.0 Iteracion 1\n",
            "Error: 12.0 Iteracion 2\n",
            "Error: 12.0 Iteracion 3\n",
            "Error: 8.0 Iteracion 4\n",
            "Error: 8.0 Iteracion 5\n",
            "Error: 12.0 Iteracion 6\n",
            "Error: 4.0 Iteracion 7\n",
            "Error: 8.0 Iteracion 8\n",
            "Error: 4.0 Iteracion 9\n",
            "Error: 4.0 Iteracion 10\n",
            "Error: 4.0 Iteracion 11\n",
            "Error: 8.0 Iteracion 12\n",
            "Error: 4.0 Iteracion 13\n",
            "Error: 0.0 Iteracion 14\n"
          ]
        }
      ]
    },
    {
      "cell_type": "code",
      "source": [
        "di3 = d3\n",
        "\n",
        "errord3 = np.sum(di3**2)\n",
        "\n",
        "id3 = 0\n",
        "\n",
        "erroresd3 = []\n",
        "\n",
        "while (errord3 > epsilon) and (id3 < 99):\n",
        "  yd3 = np.sign( np.dot(x3,wd3) )\n",
        "  d3 = z3 - yd3\n",
        "  errord3 = np.sum(d3**2)\n",
        "  erroresd3.append(errord3)\n",
        "  delta_wd3 = np.dot(x3.T,d3)\n",
        "  wd3 = wd3 + epsilon*delta_wd3\n",
        "  id3 += 1\n",
        "  print('Error:',errord3,'Iteracion',id3)\n",
        "\n",
        "# Por alguna razon no converge... Tal vez conviene cambiar la funcion de activacion"
      ],
      "metadata": {
        "colab": {
          "base_uri": "https://localhost:8080/"
        },
        "id": "-55GGerSLWLu",
        "outputId": "9da7d07b-10cb-49be-df9e-2f1b57fb3f64"
      },
      "execution_count": 60,
      "outputs": [
        {
          "output_type": "stream",
          "name": "stdout",
          "text": [
            "Error: 64.0 Iteracion 1\n",
            "Error: 56.0 Iteracion 2\n",
            "Error: 44.0 Iteracion 3\n",
            "Error: 40.0 Iteracion 4\n",
            "Error: 40.0 Iteracion 5\n",
            "Error: 40.0 Iteracion 6\n",
            "Error: 44.0 Iteracion 7\n",
            "Error: 40.0 Iteracion 8\n",
            "Error: 44.0 Iteracion 9\n",
            "Error: 44.0 Iteracion 10\n",
            "Error: 48.0 Iteracion 11\n",
            "Error: 44.0 Iteracion 12\n",
            "Error: 36.0 Iteracion 13\n",
            "Error: 52.0 Iteracion 14\n",
            "Error: 48.0 Iteracion 15\n",
            "Error: 64.0 Iteracion 16\n",
            "Error: 64.0 Iteracion 17\n",
            "Error: 36.0 Iteracion 18\n",
            "Error: 48.0 Iteracion 19\n",
            "Error: 52.0 Iteracion 20\n",
            "Error: 192.0 Iteracion 21\n",
            "Error: 52.0 Iteracion 22\n",
            "Error: 52.0 Iteracion 23\n",
            "Error: 52.0 Iteracion 24\n",
            "Error: 48.0 Iteracion 25\n",
            "Error: 48.0 Iteracion 26\n",
            "Error: 44.0 Iteracion 27\n",
            "Error: 48.0 Iteracion 28\n",
            "Error: 48.0 Iteracion 29\n",
            "Error: 40.0 Iteracion 30\n",
            "Error: 40.0 Iteracion 31\n",
            "Error: 36.0 Iteracion 32\n",
            "Error: 40.0 Iteracion 33\n",
            "Error: 36.0 Iteracion 34\n",
            "Error: 40.0 Iteracion 35\n",
            "Error: 36.0 Iteracion 36\n",
            "Error: 216.0 Iteracion 37\n",
            "Error: 52.0 Iteracion 38\n",
            "Error: 48.0 Iteracion 39\n",
            "Error: 44.0 Iteracion 40\n",
            "Error: 44.0 Iteracion 41\n",
            "Error: 44.0 Iteracion 42\n",
            "Error: 52.0 Iteracion 43\n",
            "Error: 36.0 Iteracion 44\n",
            "Error: 40.0 Iteracion 45\n",
            "Error: 36.0 Iteracion 46\n",
            "Error: 40.0 Iteracion 47\n",
            "Error: 36.0 Iteracion 48\n",
            "Error: 40.0 Iteracion 49\n",
            "Error: 36.0 Iteracion 50\n",
            "Error: 40.0 Iteracion 51\n",
            "Error: 36.0 Iteracion 52\n",
            "Error: 48.0 Iteracion 53\n",
            "Error: 52.0 Iteracion 54\n",
            "Error: 200.0 Iteracion 55\n",
            "Error: 52.0 Iteracion 56\n",
            "Error: 52.0 Iteracion 57\n",
            "Error: 52.0 Iteracion 58\n",
            "Error: 52.0 Iteracion 59\n",
            "Error: 48.0 Iteracion 60\n",
            "Error: 48.0 Iteracion 61\n",
            "Error: 52.0 Iteracion 62\n",
            "Error: 48.0 Iteracion 63\n",
            "Error: 40.0 Iteracion 64\n",
            "Error: 44.0 Iteracion 65\n",
            "Error: 36.0 Iteracion 66\n",
            "Error: 44.0 Iteracion 67\n",
            "Error: 40.0 Iteracion 68\n",
            "Error: 44.0 Iteracion 69\n",
            "Error: 44.0 Iteracion 70\n",
            "Error: 36.0 Iteracion 71\n",
            "Error: 216.0 Iteracion 72\n",
            "Error: 52.0 Iteracion 73\n",
            "Error: 48.0 Iteracion 74\n",
            "Error: 44.0 Iteracion 75\n",
            "Error: 44.0 Iteracion 76\n",
            "Error: 44.0 Iteracion 77\n",
            "Error: 52.0 Iteracion 78\n",
            "Error: 36.0 Iteracion 79\n",
            "Error: 40.0 Iteracion 80\n",
            "Error: 36.0 Iteracion 81\n",
            "Error: 40.0 Iteracion 82\n",
            "Error: 36.0 Iteracion 83\n",
            "Error: 40.0 Iteracion 84\n",
            "Error: 36.0 Iteracion 85\n",
            "Error: 48.0 Iteracion 86\n",
            "Error: 40.0 Iteracion 87\n",
            "Error: 60.0 Iteracion 88\n",
            "Error: 64.0 Iteracion 89\n",
            "Error: 76.0 Iteracion 90\n",
            "Error: 64.0 Iteracion 91\n",
            "Error: 48.0 Iteracion 92\n",
            "Error: 60.0 Iteracion 93\n",
            "Error: 52.0 Iteracion 94\n",
            "Error: 52.0 Iteracion 95\n",
            "Error: 64.0 Iteracion 96\n",
            "Error: 96.0 Iteracion 97\n",
            "Error: 64.0 Iteracion 98\n",
            "Error: 44.0 Iteracion 99\n"
          ]
        }
      ]
    },
    {
      "cell_type": "code",
      "source": [
        "di4 = d4\n",
        "\n",
        "errord4 = np.sum(di4**2)\n",
        "\n",
        "id4 = 0\n",
        "\n",
        "erroresd4 = []\n",
        "\n",
        "while (errord4 > epsilon) and (id4 < 99):\n",
        "  yd4 = np.sign( np.dot(x4,wd4) )\n",
        "  d4 = z4 - yd4\n",
        "  errord4 = np.sum(d4**2)\n",
        "  erroresd4.append(errord4)\n",
        "  delta_wd4 = np.dot(x4.T,d4)\n",
        "  wd4 = wd4 + epsilon*delta_wd4\n",
        "  id4 += 1\n",
        "  print('Error:',errord4,'Iteracion',id4)"
      ],
      "metadata": {
        "colab": {
          "base_uri": "https://localhost:8080/"
        },
        "id": "9zCyKk5NNKRW",
        "outputId": "d158ccb3-2dbf-4214-a4eb-d4560b8c53b1"
      },
      "execution_count": 61,
      "outputs": [
        {
          "output_type": "stream",
          "name": "stdout",
          "text": [
            "Error: 52.0 Iteracion 1\n",
            "Error: 20.0 Iteracion 2\n",
            "Error: 4.0 Iteracion 3\n",
            "Error: 4.0 Iteracion 4\n",
            "Error: 4.0 Iteracion 5\n",
            "Error: 12.0 Iteracion 6\n",
            "Error: 8.0 Iteracion 7\n",
            "Error: 4.0 Iteracion 8\n",
            "Error: 8.0 Iteracion 9\n",
            "Error: 4.0 Iteracion 10\n",
            "Error: 4.0 Iteracion 11\n",
            "Error: 4.0 Iteracion 12\n",
            "Error: 4.0 Iteracion 13\n",
            "Error: 4.0 Iteracion 14\n",
            "Error: 8.0 Iteracion 15\n",
            "Error: 4.0 Iteracion 16\n",
            "Error: 4.0 Iteracion 17\n",
            "Error: 4.0 Iteracion 18\n",
            "Error: 4.0 Iteracion 19\n",
            "Error: 4.0 Iteracion 20\n",
            "Error: 8.0 Iteracion 21\n",
            "Error: 4.0 Iteracion 22\n",
            "Error: 4.0 Iteracion 23\n",
            "Error: 4.0 Iteracion 24\n",
            "Error: 4.0 Iteracion 25\n",
            "Error: 0.0 Iteracion 26\n"
          ]
        }
      ]
    },
    {
      "cell_type": "code",
      "source": [
        "di5 = d5\n",
        "\n",
        "errord5 = np.sum(di5**2)\n",
        "\n",
        "id5 = 0\n",
        "\n",
        "erroresd5 = []\n",
        "\n",
        "while (errord5 > epsilon) and (id5 < 99):\n",
        "  yd5 = np.sign( np.dot(x5,wd5) )\n",
        "  d5 = z5 - yd5\n",
        "  errord5 = np.sum(d5**2)\n",
        "  erroresd5.append(errord5)\n",
        "  delta_wd5 = np.dot(x5.T,d5)\n",
        "  wd5 = wd5 + epsilon*delta_wd5\n",
        "  id5 += 1\n",
        "  print('Error:',errord5,'Iteracion',id5)\n",
        "\n",
        "# Este tampoco parece converger..."
      ],
      "metadata": {
        "colab": {
          "base_uri": "https://localhost:8080/"
        },
        "id": "UFbB0FmfNZna",
        "outputId": "c1b5f4be-c5ea-4c42-c25f-5971e4717cbd"
      },
      "execution_count": 62,
      "outputs": [
        {
          "output_type": "stream",
          "name": "stdout",
          "text": [
            "Error: 208.0 Iteracion 1\n",
            "Error: 196.0 Iteracion 2\n",
            "Error: 164.0 Iteracion 3\n",
            "Error: 196.0 Iteracion 4\n",
            "Error: 176.0 Iteracion 5\n",
            "Error: 200.0 Iteracion 6\n",
            "Error: 172.0 Iteracion 7\n",
            "Error: 220.0 Iteracion 8\n",
            "Error: 168.0 Iteracion 9\n",
            "Error: 192.0 Iteracion 10\n",
            "Error: 160.0 Iteracion 11\n",
            "Error: 124.0 Iteracion 12\n",
            "Error: 164.0 Iteracion 13\n",
            "Error: 180.0 Iteracion 14\n",
            "Error: 172.0 Iteracion 15\n",
            "Error: 164.0 Iteracion 16\n",
            "Error: 204.0 Iteracion 17\n",
            "Error: 172.0 Iteracion 18\n",
            "Error: 232.0 Iteracion 19\n",
            "Error: 160.0 Iteracion 20\n",
            "Error: 168.0 Iteracion 21\n",
            "Error: 164.0 Iteracion 22\n",
            "Error: 128.0 Iteracion 23\n",
            "Error: 164.0 Iteracion 24\n",
            "Error: 164.0 Iteracion 25\n",
            "Error: 180.0 Iteracion 26\n",
            "Error: 168.0 Iteracion 27\n",
            "Error: 208.0 Iteracion 28\n",
            "Error: 160.0 Iteracion 29\n",
            "Error: 176.0 Iteracion 30\n",
            "Error: 164.0 Iteracion 31\n",
            "Error: 196.0 Iteracion 32\n",
            "Error: 156.0 Iteracion 33\n",
            "Error: 204.0 Iteracion 34\n",
            "Error: 152.0 Iteracion 35\n",
            "Error: 224.0 Iteracion 36\n",
            "Error: 164.0 Iteracion 37\n",
            "Error: 184.0 Iteracion 38\n",
            "Error: 160.0 Iteracion 39\n",
            "Error: 136.0 Iteracion 40\n",
            "Error: 180.0 Iteracion 41\n",
            "Error: 156.0 Iteracion 42\n",
            "Error: 200.0 Iteracion 43\n",
            "Error: 164.0 Iteracion 44\n",
            "Error: 208.0 Iteracion 45\n",
            "Error: 164.0 Iteracion 46\n",
            "Error: 156.0 Iteracion 47\n",
            "Error: 176.0 Iteracion 48\n",
            "Error: 188.0 Iteracion 49\n",
            "Error: 156.0 Iteracion 50\n",
            "Error: 164.0 Iteracion 51\n",
            "Error: 160.0 Iteracion 52\n",
            "Error: 168.0 Iteracion 53\n",
            "Error: 188.0 Iteracion 54\n",
            "Error: 168.0 Iteracion 55\n",
            "Error: 196.0 Iteracion 56\n",
            "Error: 168.0 Iteracion 57\n",
            "Error: 232.0 Iteracion 58\n",
            "Error: 160.0 Iteracion 59\n",
            "Error: 168.0 Iteracion 60\n",
            "Error: 168.0 Iteracion 61\n",
            "Error: 144.0 Iteracion 62\n",
            "Error: 180.0 Iteracion 63\n",
            "Error: 156.0 Iteracion 64\n",
            "Error: 180.0 Iteracion 65\n",
            "Error: 168.0 Iteracion 66\n",
            "Error: 176.0 Iteracion 67\n",
            "Error: 156.0 Iteracion 68\n",
            "Error: 220.0 Iteracion 69\n",
            "Error: 168.0 Iteracion 70\n",
            "Error: 160.0 Iteracion 71\n",
            "Error: 172.0 Iteracion 72\n",
            "Error: 220.0 Iteracion 73\n",
            "Error: 168.0 Iteracion 74\n",
            "Error: 164.0 Iteracion 75\n",
            "Error: 176.0 Iteracion 76\n",
            "Error: 208.0 Iteracion 77\n",
            "Error: 164.0 Iteracion 78\n",
            "Error: 168.0 Iteracion 79\n",
            "Error: 172.0 Iteracion 80\n",
            "Error: 212.0 Iteracion 81\n",
            "Error: 164.0 Iteracion 82\n",
            "Error: 168.0 Iteracion 83\n",
            "Error: 156.0 Iteracion 84\n",
            "Error: 212.0 Iteracion 85\n",
            "Error: 172.0 Iteracion 86\n",
            "Error: 176.0 Iteracion 87\n",
            "Error: 168.0 Iteracion 88\n",
            "Error: 192.0 Iteracion 89\n",
            "Error: 164.0 Iteracion 90\n",
            "Error: 196.0 Iteracion 91\n",
            "Error: 168.0 Iteracion 92\n",
            "Error: 224.0 Iteracion 93\n",
            "Error: 164.0 Iteracion 94\n",
            "Error: 156.0 Iteracion 95\n",
            "Error: 184.0 Iteracion 96\n",
            "Error: 216.0 Iteracion 97\n",
            "Error: 164.0 Iteracion 98\n",
            "Error: 168.0 Iteracion 99\n"
          ]
        }
      ]
    },
    {
      "cell_type": "code",
      "source": [
        "fig, ax = plt.subplots(5,1, figsize = (20,15) )\n",
        "\n",
        "ax[0].plot(erroresd1)\n",
        "ax[0].set_ylabel('Error')\n",
        "ax[0].set_title('Dataset 1')\n",
        "\n",
        "ax[1].plot(erroresd2)\n",
        "ax[1].set_ylabel('Error')\n",
        "ax[1].set_title('Dataset 2')\n",
        "\n",
        "ax[2].plot(erroresd3)\n",
        "ax[2].set_ylabel('Error')\n",
        "ax[2].set_title('Dataset 3')\n",
        "\n",
        "ax[3].plot(erroresd4)\n",
        "ax[3].set_ylabel('Error')\n",
        "ax[3].set_title('Dataset 4')\n",
        "\n",
        "ax[4].plot(erroresd5)\n",
        "ax[4].set_ylabel('Error')\n",
        "ax[4].set_title('Dataset 5')\n",
        "\n",
        "\n",
        "plt.show()"
      ],
      "metadata": {
        "colab": {
          "base_uri": "https://localhost:8080/",
          "height": 781
        },
        "id": "Wa3eoZHsHYyu",
        "outputId": "8ab74f88-d5d6-4517-d9ef-63ac7b891ecc"
      },
      "execution_count": 63,
      "outputs": [
        {
          "output_type": "display_data",
          "data": {
            "text/plain": [
              "<Figure size 2000x1500 with 5 Axes>"
            ],
            "image/png": "[encoded data removed]"
          },
          "metadata": {}
        }
      ]
    },
    {
      "cell_type": "markdown",
      "source": [
        "# Ej 1.2\n",
        "## 1)"
      ],
      "metadata": {
        "id": "FwnRlqI-QLf9"
      }
    },
    {
      "cell_type": "code",
      "source": [
        "letras = np.loadtxt('/content/letras.txt')\n",
        "letras.shape\n",
        "L = letras.reshape((26,5,5)) # 26 filas (letras) de 5x5\n",
        "L = L*2 -1 # Convierto a bipolares\n",
        "L[0] # Letra A"
      ],
      "metadata": {
        "colab": {
          "base_uri": "https://localhost:8080/"
        },
        "id": "1EqK-x93_bxc",
        "outputId": "f53c7559-2ff8-49cd-a14d-60f45e8eaa40"
      },
      "execution_count": 162,
      "outputs": [
        {
          "output_type": "execute_result",
          "data": {
            "text/plain": [
              "array([[-1., -1.,  1., -1., -1.],\n",
              "       [-1.,  1., -1.,  1., -1.],\n",
              "       [ 1.,  1.,  1.,  1.,  1.],\n",
              "       [ 1., -1., -1., -1.,  1.],\n",
              "       [ 1., -1., -1., -1.,  1.]])"
            ]
          },
          "metadata": {},
          "execution_count": 162
        }
      ]
    },
    {
      "cell_type": "code",
      "source": [
        "import string\n",
        "\n",
        "alphabet = string.ascii_uppercase\n",
        "binary_letters = []\n",
        "for letter in alphabet:\n",
        "    binary = bin(ord(letter))[2:]\n",
        "    binary_letters.append(binary)"
      ],
      "metadata": {
        "id": "-ZhSa4K9AXBZ"
      },
      "execution_count": 88,
      "outputs": []
    },
    {
      "cell_type": "code",
      "source": [
        "binary_letters = np.array(binary_letters).reshape((26,1))\n",
        "binary_letters.shape"
      ],
      "metadata": {
        "colab": {
          "base_uri": "https://localhost:8080/"
        },
        "id": "L239HryhH2Yh",
        "outputId": "3b1f6fe0-3dcf-42fb-c45e-d8051147c871"
      },
      "execution_count": 94,
      "outputs": [
        {
          "output_type": "execute_result",
          "data": {
            "text/plain": [
              "(26, 1)"
            ]
          },
          "metadata": {},
          "execution_count": 94
        }
      ]
    },
    {
      "cell_type": "code",
      "source": [
        "Lx = np.zeros((26,5,6))\n",
        "for i in range(len(L)):\n",
        "  Lx[i] = np.concatenate( ( L[i],np.ones((5,1))*-1 ), axis=1 )"
      ],
      "metadata": {
        "id": "dU5OW2ctNOI5"
      },
      "execution_count": 163,
      "outputs": []
    }
  ]
}