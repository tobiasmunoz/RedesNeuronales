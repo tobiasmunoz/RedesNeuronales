{
  "nbformat": 4,
  "nbformat_minor": 0,
  "metadata": {
    "colab": {
      "provenance": []
    },
    "kernelspec": {
      "name": "python3",
      "display_name": "Python 3"
    },
    "language_info": {
      "name": "python"
    }
  },
  "cells": [
    {
      "cell_type": "code",
      "execution_count": 1,
      "metadata": {
        "id": "9M_ldCoUz5SQ"
      },
      "outputs": [],
      "source": [
        "import numpy as np\n",
        "import matplotlib.pyplot as plt\n",
        "\n",
        "def sigmoid(x):\n",
        "    return 1 / (1 + np.exp(-x))\n",
        "\n",
        "def relu(x):\n",
        "    return np.maximum(0, x)\n",
        "\n",
        "def bias_add(V):\n",
        "    bias = -np.ones( (len(V),1) )\n",
        "    return np.concatenate( (V,bias), axis=1)\n",
        "    #return np.hstack( [V,bias] ) # Funciona igual que lo de arriba\n",
        "\n",
        "def bias_sub(V):\n",
        "    return V[:,:-1] # Saco la ultima columna"
      ]
    },
    {
      "cell_type": "code",
      "source": [
        "def activation(X): \n",
        "    \n",
        "    Y = [] # L capas Y_o, Y_1, Y_2, .... Y_l-1\n",
        "    i = 0\n",
        "    \n",
        "    for s in S: # S variable global con los sizes de las capas \n",
        "        if i == len(S)-1:\n",
        "            Y.append( np.zeros((1,s)) )\n",
        "            i += 1\n",
        "        else:\n",
        "            Y.append( np.zeros((1,s+1)) )\n",
        "            i += 1\n",
        "        \n",
        "    Y[0][:] = bias_add(X)\n",
        "    \n",
        "    for k in range(1,len(S)-1):\n",
        "        Y[k][:] = bias_add(Y[k])\n",
        "        Y[k][:] = np.tanh( np.dot( Y[k-1],W[k] ) ) # W dados (se pueden armar a parte)\n",
        "        \n",
        "    Y[-1][:] = np.tanh( np.dot(Y[-2],W[-2]) )\n",
        "    return Y  "
      ],
      "metadata": {
        "id": "-p1FqNBaz9_V"
      },
      "execution_count": null,
      "outputs": []
    },
    {
      "cell_type": "code",
      "source": [
        "def correction(Y,Z):\n",
        "    delta_W = [0] # primer elemento vacio\n",
        "    \n",
        "    for i in range(1,S): # S variable global con los sizes de las capas \n",
        "        delta_W.append( np.zeros( (S[i-1]+1,S[i]) ) )\n",
        "        \n",
        "    # Ver inicializar con size L e insertar en L-1 los valores de abajo\n",
        "    E = [0]*L # size L \n",
        "    D = [0]*L # size L\n",
        "    d = [0]*L # size L\n",
        "    \n",
        "    E[L-1] =  Z - Y[-1]  # En ultima posicion inserto\n",
        "    d[L-1] = 1 - Y[-1]**2\n",
        "    D[L-1] = E[-1]*d[-1] \n",
        "        \n",
        "    for k in reversed(np.arange(1,L)):\n",
        "        delta_w[k] = lr * np.dot( Y[k-1].T, D[k]) # lr = learning rate (variable global)\n",
        "        E[k] = ( D[k] ) \n",
        "        d[k] = ( 1 - Y[k-1]**2 )\n",
        "        D[k] = ( bias_sub( E[k]*d[k] ) )\n",
        "    return delta_w"
      ],
      "metadata": {
        "id": "Od9scpbt0AiX"
      },
      "execution_count": null,
      "outputs": []
    }
  ]
}