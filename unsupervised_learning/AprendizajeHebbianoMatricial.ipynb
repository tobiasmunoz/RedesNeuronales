{
 "cells": [
  {
   "cell_type": "code",
   "execution_count": 1,
   "metadata": {},
   "outputs": [],
   "source": [
    "# La clase pasada vimos regla de Oja y de Sanger (simple y generalizada)\n",
    "# La implementacion no era muy eficiente porque usa muchos loops (3 o 4)\n",
    "# La idea ahora sera entonces implementar (Sanger) de forma matricial.\n",
    "\n",
    "import numpy as np\n",
    "from matplotlib import pyplot as plt"
   ]
  },
  {
   "cell_type": "code",
   "execution_count": 2,
   "metadata": {},
   "outputs": [],
   "source": [
    "N = 5\n",
    "M = 3\n",
    "\n",
    "np.random.seed(10)\n",
    "X = np.random.uniform(-1, 1, (1,N) )\n",
    "W = np.random.normal(0, 0.1, (N,M) )"
   ]
  },
  {
   "cell_type": "code",
   "execution_count": 3,
   "metadata": {},
   "outputs": [],
   "source": [
    "# Regla de Oja\n",
    "Y = np.dot(X,W)\n",
    "\n",
    "Z = np.dot(Y,W.T)\n",
    "\n",
    "dW = np.outer(X-Z,Y) # Es lo mismo que transp(X-Z).Y"
   ]
  },
  {
   "cell_type": "code",
   "execution_count": 4,
   "metadata": {},
   "outputs": [
    {
     "data": {
      "text/plain": [
       "1.4874391645640355"
      ]
     },
     "execution_count": 4,
     "metadata": {},
     "output_type": "execute_result"
    }
   ],
   "source": [
    "# Regla de Sanger\n",
    "D = np.triu(np.ones((M,M))) # triu da la matriz triangular superior\n",
    "\n",
    "Z = np.dot(W, Y.T*D)\n",
    "\n",
    "dW = (X.T - Z)*Y\n",
    "\n",
    "o = np.sum(np.abs( np.dot( W.T, W) - np.identity(M) ))/2\n",
    "o_list = [o]\n",
    "o"
   ]
  },
  {
   "cell_type": "code",
   "execution_count": 5,
   "metadata": {},
   "outputs": [],
   "source": [
    "for i in range(1000):\n",
    "    W = W + 0.01*dW\n",
    "\n",
    "    Z = np.dot(W, Y.T*D)\n",
    "\n",
    "    dW = (X.T - Z)*Y\n",
    "\n",
    "    o_temp = np.sum(np.abs( np.dot( W.T, W) - np.identity(M) ))/2\n",
    "    o_list.append(o_temp)"
   ]
  },
  {
   "cell_type": "code",
   "execution_count": 6,
   "metadata": {},
   "outputs": [
    {
     "data": {
      "image/png": "[encoded data removed]",
      "text/plain": [
       "<Figure size 432x288 with 1 Axes>"
      ]
     },
     "metadata": {
      "needs_background": "light"
     },
     "output_type": "display_data"
    }
   ],
   "source": [
    "plt.plot(o_list)\n",
    "plt.show()"
   ]
  },
  {
   "cell_type": "code",
   "execution_count": 7,
   "metadata": {},
   "outputs": [],
   "source": [
    "# Problema del hiper-rectangulo:\n",
    "# Vector A = <a1,a2,a3,a4,a5,a6>, ai en los naturales y todos distintos entre si\n",
    "# Vector X = <x1,x2,x3,x4,x5,x6> con cada xi en U[-ai,ai]\n",
    "# M = 4 (4 unidades de salida)\n",
    "# N = 6 (6 unidades de entrada por definicion del problema)\n",
    "np.random.seed(42)\n",
    "\n",
    "A = [1,2,3,4,5,6]\n",
    "X = []\n",
    "for a in A:\n",
    "    temp = np.random.uniform(-a,a)\n",
    "    X.append(temp)"
   ]
  },
  {
   "cell_type": "code",
   "execution_count": 8,
   "metadata": {},
   "outputs": [],
   "source": [
    "# Uso primero la regla de Sanger\n",
    "X = np.array(X).reshape(1,6)\n",
    "X = (X - X.mean() ) / X.var()\n",
    "\n",
    "np.random.seed(42)\n",
    "W = np.random.normal(0, 0.1, (6,4) )\n",
    "\n",
    "Y = np.dot(X,W)\n",
    "\n",
    "D = np.triu(np.ones((4,4)))\n",
    "\n",
    "Z = np.dot(W, Y.T*D)\n",
    "\n",
    "dW = (X.T - Z)*Y\n",
    "\n",
    "W = W + 0.01*dW\n",
    "\n",
    "o2 = np.sum(np.abs( np.dot( W.T, W) - np.identity(4) ))/2\n",
    "o2_list = [o2]"
   ]
  },
  {
   "cell_type": "code",
   "execution_count": 9,
   "metadata": {},
   "outputs": [],
   "source": [
    "for i in range(80):\n",
    "    W = W + 0.1*dW\n",
    "\n",
    "    Z = np.dot(W, Y.T*D)\n",
    "\n",
    "    dW = (X.T - Z)*Y\n",
    "\n",
    "    o_temp = np.sum(np.abs( np.dot( W.T, W) - np.identity(4) ))/2\n",
    "    o2_list.append(o_temp)"
   ]
  },
  {
   "cell_type": "code",
   "execution_count": 10,
   "metadata": {},
   "outputs": [
    {
     "data": {
      "image/png": "[encoded data removed]",
      "text/plain": [
       "<Figure size 432x288 with 1 Axes>"
      ]
     },
     "metadata": {
      "needs_background": "light"
     },
     "output_type": "display_data"
    }
   ],
   "source": [
    "plt.plot(o2_list)\n",
    "plt.show()"
   ]
  },
  {
   "cell_type": "code",
   "execution_count": 11,
   "metadata": {},
   "outputs": [],
   "source": [
    "# Ahora para la regla de Oja:\n",
    "\n",
    "np.random.seed(42)\n",
    "Ws = np.random.normal(0, 0.1, (6,4) )\n",
    "\n",
    "Ys = np.dot(X,Ws)\n",
    "\n",
    "Zs = np.dot(Ys,Ws.T)\n",
    "\n",
    "dWs = np.outer(X-Zs,Ys)\n",
    "\n",
    "os = np.sum(np.abs( np.dot( Ws.T, Ws) - np.identity(4) ))/2\n",
    "\n",
    "os_list = [os]"
   ]
  },
  {
   "cell_type": "code",
   "execution_count": 12,
   "metadata": {},
   "outputs": [],
   "source": [
    "for i in range(80):\n",
    "    Ws = Ws + 0.1*dWs\n",
    "\n",
    "    Zs = np.dot(Ys,Ws.T)\n",
    "\n",
    "    dWs = np.outer(X-Zs,Ys)\n",
    "\n",
    "    os_temp = np.sum(np.abs( np.dot( Ws.T, Ws) - np.identity(4) ))/2\n",
    "    os_list.append(os_temp)"
   ]
  },
  {
   "cell_type": "code",
   "execution_count": 13,
   "metadata": {},
   "outputs": [
    {
     "data": {
      "image/png": "[encoded data removed]",
      "text/plain": [
       "<Figure size 432x288 with 1 Axes>"
      ]
     },
     "metadata": {
      "needs_background": "light"
     },
     "output_type": "display_data"
    }
   ],
   "source": [
    "plt.plot(os_list)\n",
    "plt.show()"
   ]
  }
 ],
 "metadata": {
  "kernelspec": {
   "display_name": "Python 3",
   "language": "python",
   "name": "python3"
  },
  "language_info": {
   "codemirror_mode": {
    "name": "ipython",
    "version": 3
   },
   "file_extension": ".py",
   "mimetype": "text/x-python",
   "name": "python",
   "nbconvert_exporter": "python",
   "pygments_lexer": "ipython3",
   "version": "3.8.10"
  }
 },
 "nbformat": 4,
 "nbformat_minor": 4
}
