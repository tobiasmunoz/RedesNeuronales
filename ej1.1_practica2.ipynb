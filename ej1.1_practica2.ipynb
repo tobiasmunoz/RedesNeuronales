{
  "nbformat": 4,
  "nbformat_minor": 0,
  "metadata": {
    "colab": {
      "provenance": []
    },
    "kernelspec": {
      "name": "python3",
      "display_name": "Python 3"
    },
    "language_info": {
      "name": "python"
    }
  },
  "cells": [
    {
      "cell_type": "markdown",
      "source": [
        "# Practica 2\n",
        "## Ej 1.1 Paridad\n",
        "### El problema de XOR es equivalente al problema de paridad para dos variables, es decir, el resultado es 1 solo cuando la cantidad de unos en la entrada es impar. Implementar un perceptrón multicapa que pueda aprender el problema de paridad para distintas cantidades de variables de entrada.\n",
        "###Entrenarlo para 2, 4, 8 y 10 variables de entrada."
      ],
      "metadata": {
        "id": "mq5yrenuL6Ji"
      }
    },
    {
      "cell_type": "code",
      "source": [
        "import numpy as np\n",
        "import matplotlib.pyplot as plt\n",
        "from matplotlib import cm\n",
        "from itertools import product\n",
        "\n",
        "def sigmoid(x):\n",
        "    return 1 / (1 + np.exp(-x))\n",
        "\n",
        "def relu(x):\n",
        "    return np.maximum(0, x)\n",
        "\n",
        "def bias_add(V):\n",
        "    bias = -np.ones( (len(V),1) )\n",
        "    return np.concatenate( (V,bias), axis=1)\n",
        "    #return np.hstack( [V,bias] ) # Funciona igual que lo de arriba\n",
        "\n",
        "def bias_sub(V):\n",
        "    return V[:,:-1] # Saco la ultima columna"
      ],
      "metadata": {
        "id": "lMnFlDVxL_DM"
      },
      "execution_count": 1,
      "outputs": []
    },
    {
      "cell_type": "markdown",
      "source": [
        "### Empiezo con 2 variables de entrada y despues observo las otras"
      ],
      "metadata": {
        "id": "J8KGWoaDMK04"
      }
    },
    {
      "cell_type": "code",
      "source": [
        "X = list( product( [0,1],repeat = 2 ) )\n",
        "X = np.array(X) # Matrix 4x2 (P,Si)\n",
        "\n",
        "Z = np.mod(np.sum(X, axis=1), 2) # Matriz de paridad\n",
        "Z = np.array(Z).reshape(-1,1) # Matriz 4x1 (P,So)\n",
        "\n",
        "# Una vez preparadas las entradas y salidas, queda armar los W1, W2 y entrenar el modelo\n",
        "# Ademas ver que funcion de activacion es mas conveniente (Probar ReLu, sigmoid, etc)\n",
        "# ReLu: Rectified Linear Unit"
      ],
      "metadata": {
        "id": "V-GPZruLMLjv"
      },
      "execution_count": 2,
      "outputs": []
    },
    {
      "cell_type": "code",
      "source": [
        "# P = 4, Si = 2, Sh = 1 (a eleccion, probar distintos valores) , So = 1\n",
        "y0 = np.zeros((4,3)) # (P,Si+1)\n",
        "y1 = np.zeros((4,2)) # (P,Sh+1)\n",
        "y2 = np.zeros((4,1)) # (P,So)\n",
        "\n",
        "np.random.seed(20)\n",
        "w1 = np.random.normal(0,0.1,(3,1)) # (Si+1,Sh)\n",
        "w2 = np.random.normal(0,0.1,(2,1)) # (Sh+1,So)"
      ],
      "metadata": {
        "id": "HeSD9uFDMQa-"
      },
      "execution_count": 3,
      "outputs": []
    },
    {
      "cell_type": "code",
      "source": [
        "y0[:] = bias_add(X)\n",
        "y1[:] = bias_add( np.tanh(np.dot( y0,w1 )) ) # Probar distintas funciones de activacion \n",
        "y2[:] = np.tanh( np.dot( y1, w2 ) ) # Probar distintas funciones de activacion\n",
        "\n",
        "e2 = Z - y2\n",
        "dY2 = 1 - y2**2 # Cambiar derivada al cambiar funcion de activacion\n",
        "d2 = e2*dY2\n",
        "eps = 0.5\n",
        "delta_w2 = eps*np.dot(y1.T,d2)\n",
        "\n",
        "e1 = np.dot(d2,w2.T)\n",
        "dY1 = 1 - y1**2 # Cambiar derivada al cambiar funcion de activacion\n",
        "d1 = bias_sub(e1*dY1)\n",
        "delta_w1 = eps*np.dot(y0.T,d1)\n",
        "\n",
        "w1 += eps*delta_w1\n",
        "w2 += eps*delta_w2"
      ],
      "metadata": {
        "id": "v3mjvWXSMSm8"
      },
      "execution_count": 4,
      "outputs": []
    },
    {
      "cell_type": "code",
      "source": [
        "error_2 = np.mean( np.square(e2))\n",
        "error_2"
      ],
      "metadata": {
        "colab": {
          "base_uri": "https://localhost:8080/"
        },
        "id": "Bn4jjS1wMUp9",
        "outputId": "a1411995-dc68-4a6f-aa9b-9387ea61c5dc"
      },
      "execution_count": 5,
      "outputs": [
        {
          "output_type": "execute_result",
          "data": {
            "text/plain": [
              "0.4070573315363258"
            ]
          },
          "metadata": {},
          "execution_count": 5
        }
      ]
    },
    {
      "cell_type": "code",
      "source": [
        "iter = 0\n",
        "errores_2 = [error_2]\n",
        "while error_2 > 0.01 and iter < 999:\n",
        "    \n",
        "    y1[:] = bias_add( np.tanh(np.dot( y0,w1 )) ) # Probar distintas funciones de activacion\n",
        "    y2[:] = np.tanh( np.dot( y1, w2 ) ) # Probar distintas funciones de activacion\n",
        "    \n",
        "    e2 = Z - y2\n",
        "    dY2 = 1-y2**2 # Cambiar derivada al cambiar funcion de activacion\n",
        "    d2 = e2*dY2\n",
        "    delta_w2 = eps*np.dot(y1.T,d2)\n",
        "\n",
        "    e1 = np.dot(d2,w2.T)\n",
        "    dY1 = 1-y1**2 # Cambiar derivada al cambiar funcion de activacion\n",
        "    d1 = bias_sub(e1*dY1)\n",
        "    delta_w1 = eps*np.dot(y0.T,d1)\n",
        "    \n",
        "    w1 += eps*delta_w1\n",
        "    w2 += eps*delta_w2\n",
        "    \n",
        "    error_2 = np.mean( np.square(e2))\n",
        "    \n",
        "    errores_2.append(error_2)\n",
        "\n",
        "    iter += 1\n",
        "    \n",
        "    if iter % 100 == 0: print(error_2,iter)"
      ],
      "metadata": {
        "colab": {
          "base_uri": "https://localhost:8080/"
        },
        "id": "m2gowA65MlTu",
        "outputId": "81a28239-c40f-44ac-c886-ac677b15382c"
      },
      "execution_count": 6,
      "outputs": [
        {
          "output_type": "stream",
          "name": "stdout",
          "text": [
            "0.25000103244831146 100\n",
            "0.2499995535954888 200\n",
            "0.2499992231907798 300\n",
            "0.2499988106335903 400\n",
            "0.24999824366997112 500\n",
            "0.24999749046305164 600\n",
            "0.2499965138217652 700\n",
            "0.24999525279134674 800\n",
            "0.24999359412982375 900\n"
          ]
        }
      ]
    },
    {
      "cell_type": "code",
      "source": [
        "plt.plot(errores_2)\n",
        "plt.title(\"Errores capa de salida\", weight = \"bold\")\n",
        "plt.xlabel(\"Iteraciones\")\n",
        "plt.show()"
      ],
      "metadata": {
        "colab": {
          "base_uri": "https://localhost:8080/",
          "height": 472
        },
        "id": "NoDx5XsXMoW7",
        "outputId": "bcbf5e18-0fd0-487a-9f77-17fa81f5f817"
      },
      "execution_count": 7,
      "outputs": [
        {
          "output_type": "display_data",
          "data": {
            "text/plain": [
              "<Figure size 640x480 with 1 Axes>"
            ],
            "image/png": "[encoded data removed]"
          },
          "metadata": {}
        }
      ]
    },
    {
      "cell_type": "markdown",
      "source": [
        "### 4 variables de entrada"
      ],
      "metadata": {
        "id": "k0_TYlEfMvPJ"
      }
    },
    {
      "cell_type": "code",
      "source": [
        "x4 = list( product( [0,1],repeat = 4 ) )\n",
        "x4 = np.array(x4) # Matrix 16x4 (P,Si)\n",
        "\n",
        "z4 = np.mod(np.sum(x4, axis=1), 2) # Matriz de paridad\n",
        "z4 = np.array(z4).reshape(-1,1) # Matriz 16x1 (P,So)"
      ],
      "metadata": {
        "id": "GoNPfuqVMrio"
      },
      "execution_count": 8,
      "outputs": []
    },
    {
      "cell_type": "code",
      "source": [
        "# P = 16, Si = 4, Sh = 3 (a eleccion, probar distintos valores) , So = 1\n",
        "Y0_4 = np.zeros((16,5)) # (P,Si+1)\n",
        "Y1_4 = np.zeros((16,4)) # (P,Sh+1)\n",
        "Y2_4 = np.zeros((16,1)) # (P,So)\n",
        "\n",
        "np.random.seed(20)\n",
        "W1_4 = np.random.normal(0,0.1,(5,3)) # (Si+1,Sh)\n",
        "W2_4 = np.random.normal(0,0.1,(4,1)) # (Sh+1,So)"
      ],
      "metadata": {
        "id": "M36N1tpYMy27"
      },
      "execution_count": 9,
      "outputs": []
    },
    {
      "cell_type": "code",
      "source": [
        "Y0_4[:] = bias_add(x4)\n",
        "Y1_4[:] = bias_add( sigmoid(np.dot( Y0_4,W1_4 )) ) # Probar distintas funciones de activacion \n",
        "Y2_4[:] = sigmoid( np.dot( Y1_4, W2_4 ) ) # Probar distintas funciones de activacion\n",
        "\n",
        "E2_4 = z4 - Y2_4\n",
        "dy2_4 = Y2_4*(1-Y2_4) # Cambiar derivada al cambiar funcion de activacion\n",
        "D2_4 = E2_4*dy2_4\n",
        "eps_4 = 0.07\n",
        "delta_W2_4 = eps_4*np.dot(Y1_4.T,D2_4)\n",
        "\n",
        "E1_4 = np.dot(D2_4,W2_4.T)\n",
        "dy1_4 = Y1_4*(1-Y1_4) # Cambiar derivada al cambiar funcion de activacion\n",
        "D1_4 = bias_sub(E1_4*dy1_4)\n",
        "delta_W1_4 = eps_4*np.dot(Y0_4.T,D1_4)\n",
        "\n",
        "W1_4 += eps_4*delta_W1_4\n",
        "W2_4 += eps_4*delta_W2_4"
      ],
      "metadata": {
        "id": "5eK_ehDWM2Bh"
      },
      "execution_count": 10,
      "outputs": []
    },
    {
      "cell_type": "code",
      "source": [
        "error_4 = np.mean( np.square(E2_4))\n",
        "error_4"
      ],
      "metadata": {
        "colab": {
          "base_uri": "https://localhost:8080/"
        },
        "id": "NSLZjauLM4yl",
        "outputId": "2705aa21-f6ba-4745-b940-8758b7481f0f"
      },
      "execution_count": 11,
      "outputs": [
        {
          "output_type": "execute_result",
          "data": {
            "text/plain": [
              "0.25000574630351724"
            ]
          },
          "metadata": {},
          "execution_count": 11
        }
      ]
    },
    {
      "cell_type": "code",
      "source": [
        "iter = 0\n",
        "errores_4 = []\n",
        "while error_4 > 0.01 and iter < 999:\n",
        "\n",
        "    Y1_4[:] = bias_add( sigmoid(np.dot( Y0_4,W1_4 )) ) # Probar distintas funciones de activacion \n",
        "    Y2_4[:] = sigmoid( np.dot( Y1_4, W2_4 ) ) # Probar distintas funciones de activacion\n",
        "\n",
        "    E2_4 = z4 - Y2_4\n",
        "    dy2_4 = Y2_4*(1-Y2_4) # Cambiar derivada al cambiar funcion de activacion\n",
        "    D2_4 = E2_4*dy2_4\n",
        "    delta_W2_4 = eps_4*np.dot(Y1_4.T,D2_4)\n",
        "\n",
        "    E1_4 = np.dot(D2_4,W2_4.T)\n",
        "    dy1_4 = Y1_4*(1-Y1_4) # Cambiar derivada al cambiar funcion de activacion\n",
        "    D1_4 = bias_sub(E1_4*dy1_4)\n",
        "    delta_W1_4 = eps_4*np.dot(Y0_4.T,D1_4)\n",
        "        \n",
        "    W1_4 += eps_4*delta_W1_4\n",
        "    W2_4 += eps_4*delta_W2_4\n",
        "\n",
        "    error_4 = np.mean( np.square(E2_4))\n",
        "    errores_4.append(error_4)\n",
        "\n",
        "    iter += 1\n",
        "    \n",
        "    if iter % 100 == 0: print(error_4,iter)"
      ],
      "metadata": {
        "colab": {
          "base_uri": "https://localhost:8080/"
        },
        "id": "vYUAMZrYM-AU",
        "outputId": "4010a662-2680-4605-b0a8-f46368fc658c"
      },
      "execution_count": 12,
      "outputs": [
        {
          "output_type": "stream",
          "name": "stdout",
          "text": [
            "0.25000114646376725 100\n",
            "0.25000037886251575 200\n",
            "0.25000025068261883 300\n",
            "0.25000022917533804 400\n",
            "0.250000225463037 500\n",
            "0.25000022471930045 600\n",
            "0.25000022447086345 700\n",
            "0.2500002243051515 800\n",
            "0.25000022415334144 900\n"
          ]
        }
      ]
    },
    {
      "cell_type": "code",
      "source": [
        "plt.plot(errores_4)\n",
        "plt.title(\"Errores capa de salida\", weight = \"bold\")\n",
        "plt.xlabel(\"Iteraciones\")\n",
        "plt.show()"
      ],
      "metadata": {
        "colab": {
          "base_uri": "https://localhost:8080/",
          "height": 472
        },
        "id": "Rta7FKi0M_JH",
        "outputId": "2bcd74e1-9ffa-4067-c5ab-64c7b27efcaf"
      },
      "execution_count": 13,
      "outputs": [
        {
          "output_type": "display_data",
          "data": {
            "text/plain": [
              "<Figure size 640x480 with 1 Axes>"
            ],
            "image/png": "[encoded data removed]"
          },
          "metadata": {}
        }
      ]
    },
    {
      "cell_type": "markdown",
      "source": [
        "### 8 variables de entrada"
      ],
      "metadata": {
        "id": "pjKLRoVoNEsW"
      }
    },
    {
      "cell_type": "code",
      "source": [
        "x8 = list( product( [0,1],repeat = 8 ) )\n",
        "x8 = np.array(x8) # Matrix 256x8 (P,Si)\n",
        "\n",
        "z8 = np.mod(np.sum(x8, axis=1), 2) # Matriz de paridad\n",
        "z8 = np.array(z8).reshape(-1,1) # Matriz 256x1 (P,So)"
      ],
      "metadata": {
        "id": "7MvIlrpbNCFK"
      },
      "execution_count": 14,
      "outputs": []
    },
    {
      "cell_type": "code",
      "source": [
        "# P = 256, Si = 8, Sh = 3 (a eleccion, probar distintos valores) , So = 1\n",
        "Y0_8 = np.zeros((256,9)) # (P,Si+1)\n",
        "Y1_8 = np.zeros((256,4)) # (P,Sh+1)\n",
        "Y2_8 = np.zeros((256,1)) # (P,So)\n",
        "\n",
        "np.random.seed(20)\n",
        "W1_8 = np.random.normal(0,0.1,(9,3)) # (Si+1,Sh)\n",
        "W2_8 = np.random.normal(0,0.1,(4,1)) # (Sh+1,So)"
      ],
      "metadata": {
        "id": "_RAhTIyDNGsd"
      },
      "execution_count": 15,
      "outputs": []
    },
    {
      "cell_type": "code",
      "source": [
        "Y0_8[:] = bias_add(x8)\n",
        "Y1_8[:] = bias_add( sigmoid(np.dot( Y0_8,W1_8 )) ) # Probar distintas funciones de activacion \n",
        "Y2_8[:] = sigmoid( np.dot( Y1_8, W2_8 ) ) # Probar distintas funciones de activacion\n",
        "\n",
        "E2_8 = z8 - Y2_8\n",
        "dy2_8 = Y2_8*(1-Y2_8) # Cambiar derivada al cambiar funcion de activacion\n",
        "D2_8 = E2_8*dy2_8\n",
        "eps_8 = 0.05\n",
        "delta_W2_8 = eps_8*np.dot(Y1_8.T,D2_8)\n",
        "\n",
        "E1_8 = np.dot(D2_8,W2_8.T)\n",
        "dy1_8 = Y1_8*(1-Y1_8) # Cambiar derivada al cambiar funcion de activacion\n",
        "D1_8 = bias_sub(E1_8*dy1_8)\n",
        "delta_W1_8 = eps_8*np.dot(Y0_8.T,D1_8)\n",
        "\n",
        "W1_8 += eps_8*delta_W1_8\n",
        "W2_8 += eps_8*delta_W2_8"
      ],
      "metadata": {
        "id": "rBjki5ZVNJeX"
      },
      "execution_count": 16,
      "outputs": []
    },
    {
      "cell_type": "code",
      "source": [
        "error_8 = np.mean( np.square(E2_8))\n",
        "error_8"
      ],
      "metadata": {
        "colab": {
          "base_uri": "https://localhost:8080/"
        },
        "id": "7rJwEwJzNKA-",
        "outputId": "ab4095c0-ef4e-44ea-c13f-f9bad1b32f2c"
      },
      "execution_count": 17,
      "outputs": [
        {
          "output_type": "execute_result",
          "data": {
            "text/plain": [
              "0.25022130459211206"
            ]
          },
          "metadata": {},
          "execution_count": 17
        }
      ]
    },
    {
      "cell_type": "code",
      "source": [
        "iter = 0\n",
        "errores_8 = []\n",
        "while error_8 > 0.01 and iter < 999:\n",
        "    Y0_8[:] = bias_add(x8)\n",
        "    Y1_8[:] = bias_add( sigmoid(np.dot( Y0_8,W1_8 )) ) # Probar distintas funciones de activacion \n",
        "    Y2_8[:] = sigmoid( np.dot( Y1_8, W2_8 ) ) # Probar distintas funciones de activacion\n",
        "\n",
        "    E2_8 = z8 - Y2_8\n",
        "    dy2_8 = Y2_8*(1-Y2_8) # Cambiar derivada al cambiar funcion de activacion\n",
        "    D2_8 = E2_8*dy2_8\n",
        "    eps_8 = 0.05\n",
        "    delta_W2_8 = eps_8*np.dot(Y1_8.T,D2_8)\n",
        "\n",
        "    E1_8 = np.dot(D2_8,W2_8.T)\n",
        "    dy1_8 = Y1_8*(1-Y1_8) # Cambiar derivada al cambiar funcion de activacion\n",
        "    D1_8 = bias_sub(E1_8*dy1_8)\n",
        "    delta_W1_8 = eps_8*np.dot(Y0_8.T,D1_8)\n",
        "    \n",
        "    W1_8 += eps_8*delta_W1_8\n",
        "    W2_8 += eps_8*delta_W2_8\n",
        "\n",
        "    error_8 = np.mean( np.square(E2_8))\n",
        "    errores_8.append(error_8)\n",
        "    iter += 1\n",
        "    \n",
        "    if iter % 100 == 0: print(error_4,iter)"
      ],
      "metadata": {
        "colab": {
          "base_uri": "https://localhost:8080/"
        },
        "id": "ogvr1MmYNOxL",
        "outputId": "6be3ac20-536d-4b18-c277-735afcc7cfa3"
      },
      "execution_count": 18,
      "outputs": [
        {
          "output_type": "stream",
          "name": "stdout",
          "text": [
            "0.2500002240054427 100\n",
            "0.2500002240054427 200\n",
            "0.2500002240054427 300\n",
            "0.2500002240054427 400\n",
            "0.2500002240054427 500\n",
            "0.2500002240054427 600\n",
            "0.2500002240054427 700\n",
            "0.2500002240054427 800\n",
            "0.2500002240054427 900\n"
          ]
        }
      ]
    },
    {
      "cell_type": "code",
      "source": [
        "plt.plot(errores_4)\n",
        "plt.title(\"Errores capa de salida\", weight = \"bold\")\n",
        "plt.xlabel(\"Iteraciones\")\n",
        "plt.show()"
      ],
      "metadata": {
        "colab": {
          "base_uri": "https://localhost:8080/",
          "height": 472
        },
        "id": "iaZKexDYNP4u",
        "outputId": "89c459db-650e-4370-9394-1fee8311ae0e"
      },
      "execution_count": 19,
      "outputs": [
        {
          "output_type": "display_data",
          "data": {
            "text/plain": [
              "<Figure size 640x480 with 1 Axes>"
            ],
            "image/png": "[encoded data removed]"
          },
          "metadata": {}
        }
      ]
    },
    {
      "cell_type": "markdown",
      "source": [
        "Por alguna razon el error casi que no baja. Se usaron ReLu, Sigmoid, Tanh y ninguno parece funcionar. Ademas se cambio el learning rate, y la cantidad de unidades de la capa oculta y tampoco hubo cambio... Que sucede?"
      ],
      "metadata": {
        "id": "VWG_UI_eNWYI"
      }
    },
    {
      "cell_type": "markdown",
      "source": [
        "### 10 variables de entrada\n",
        "analogo..."
      ],
      "metadata": {
        "id": "lRhyxUSkNZDQ"
      }
    }
  ]
}