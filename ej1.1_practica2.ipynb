{
 "cells": [
  {
   "cell_type": "markdown",
   "metadata": {
    "id": "mq5yrenuL6Ji"
   },
   "source": [
    "# Practica 2\n",
    "## Ej 1.1 Paridad\n",
    "### El problema de XOR es equivalente al problema de paridad para dos variables, es decir, el resultado es 1 solo cuando la cantidad de unos en la entrada es impar. Implementar un perceptrón multicapa que pueda aprender el problema de paridad para distintas cantidades de variables de entrada.\n",
    "###Entrenarlo para 2, 4, 8 y 10 variables de entrada."
   ]
  },
  {
   "cell_type": "code",
   "execution_count": 1,
   "metadata": {
    "id": "lMnFlDVxL_DM"
   },
   "outputs": [],
   "source": [
    "import numpy as np\n",
    "import matplotlib.pyplot as plt\n",
    "from matplotlib import cm\n",
    "from itertools import product\n",
    "\n",
    "def sigmoid(x):\n",
    "    return 1 / (1 + np.exp(-x))\n",
    "\n",
    "def relu(x):\n",
    "    return np.maximum(0, x)\n",
    "\n",
    "def bias_add(V):\n",
    "    bias = -np.ones( (len(V),1) )\n",
    "    return np.concatenate( (V,bias), axis=1)\n",
    "    #return np.hstack( [V,bias] ) # Funciona igual que lo de arriba\n",
    "\n",
    "def bias_sub(V):\n",
    "    return V[:,:-1] # Saco la ultima columna"
   ]
  },
  {
   "cell_type": "markdown",
   "metadata": {
    "id": "J8KGWoaDMK04"
   },
   "source": [
    "### Empiezo con 2 variables de entrada y despues observo las otras"
   ]
  },
  {
   "cell_type": "code",
   "execution_count": 2,
   "metadata": {
    "id": "V-GPZruLMLjv"
   },
   "outputs": [],
   "source": [
    "X = list( product( [0,1],repeat = 2 ) )\n",
    "X = np.array(X) # Matrix 4x2 (P,Si)\n",
    "\n",
    "Z = np.mod(np.sum(X, axis=1), 2) # Matriz de paridad\n",
    "Z = np.array(Z).reshape(-1,1) # Matriz 4x1 (P,So)\n",
    "\n",
    "# Una vez preparadas las entradas y salidas, queda armar los W1, W2 y entrenar el modelo\n",
    "# Ademas ver que funcion de activacion es mas conveniente (Probar ReLu, sigmoid, etc)\n",
    "# ReLu: Rectified Linear Unit"
   ]
  },
  {
   "cell_type": "code",
   "execution_count": 3,
   "metadata": {
    "id": "HeSD9uFDMQa-"
   },
   "outputs": [],
   "source": [
    "# P = 4, Si = 2, Sh = 10 (a eleccion, probar distintos valores) , So = 1\n",
    "y0 = np.zeros((4,3)) # (P,Si+1)\n",
    "y1 = np.zeros((4,11)) # (P,Sh+1)\n",
    "y2 = np.zeros((4,1)) # (P,So)\n",
    "\n",
    "np.random.seed(20)\n",
    "w1 = np.random.normal(0,0.1,(3,10)) # (Si+1,Sh)\n",
    "w2 = np.random.normal(0,0.1,(11,1)) # (Sh+1,So)"
   ]
  },
  {
   "cell_type": "code",
   "execution_count": 4,
   "metadata": {
    "id": "v3mjvWXSMSm8"
   },
   "outputs": [],
   "source": [
    "y0[:] = bias_add(X)\n",
    "y1[:] = bias_add( sigmoid(np.dot( y0,w1 )) ) # Probar distintas funciones de activacion \n",
    "y2[:] = sigmoid( np.dot( y1, w2 ) ) # Probar distintas funciones de activacion\n",
    "\n",
    "e2 = Z - y2\n",
    "dY2 = y2*(1-y2) # Cambiar derivada al cambiar funcion de activacion\n",
    "d2 = e2*dY2\n",
    "eps = 0.8\n",
    "delta_w2 = eps*np.dot(y1.T,d2)\n",
    "\n",
    "e1 = np.dot(d2,w2.T)\n",
    "dY1 = y1*(1-y1) # Cambiar derivada al cambiar funcion de activacion\n",
    "d1 = bias_sub(e1*dY1)\n",
    "delta_w1 = eps*np.dot(y0.T,d1)\n",
    "\n",
    "w1 += eps*delta_w1\n",
    "w2 += eps*delta_w2"
   ]
  },
  {
   "cell_type": "code",
   "execution_count": 5,
   "metadata": {
    "colab": {
     "base_uri": "https://localhost:8080/"
    },
    "id": "Bn4jjS1wMUp9",
    "outputId": "a1411995-dc68-4a6f-aa9b-9387ea61c5dc"
   },
   "outputs": [
    {
     "data": {
      "text/plain": [
       "0.25168335864568037"
      ]
     },
     "execution_count": 5,
     "metadata": {},
     "output_type": "execute_result"
    }
   ],
   "source": [
    "error_2 = np.mean( np.square(e2))\n",
    "error_2"
   ]
  },
  {
   "cell_type": "code",
   "execution_count": 6,
   "metadata": {
    "colab": {
     "base_uri": "https://localhost:8080/"
    },
    "id": "m2gowA65MlTu",
    "outputId": "81a28239-c40f-44ac-c886-ac677b15382c"
   },
   "outputs": [
    {
     "name": "stdout",
     "output_type": "stream",
     "text": [
      "0.25000124991597333 500\n",
      "0.24999609121921432 1000\n",
      "0.24999081012683602 1500\n",
      "0.2499807550229401 2000\n",
      "0.24994634164601331 2500\n",
      "0.24936037964596214 3000\n",
      "0.11983602035633426 3500\n"
     ]
    }
   ],
   "source": [
    "iter = 0\n",
    "errores_2 = [error_2]\n",
    "while error_2 > 0.01 and iter < 5000:\n",
    "    y1[:] = bias_add( sigmoid(np.dot( y0,w1 )) ) # Probar distintas funciones de activacion\n",
    "    y2[:] = sigmoid( np.dot( y1, w2 ) ) # Probar distintas funciones de activacion\n",
    "    \n",
    "    e2 = Z - y2\n",
    "    dY2 = y2*(1-y2) # Cambiar derivada al cambiar funcion de activacion\n",
    "    d2 = e2*dY2\n",
    "    delta_w2 = eps*np.dot(y1.T,d2)\n",
    "\n",
    "    e1 = np.dot(d2,w2.T)\n",
    "    dY1 = y1*(1-y1) # Cambiar derivada al cambiar funcion de activacion\n",
    "    d1 = bias_sub(e1*dY1)\n",
    "    delta_w1 = eps*np.dot(y0.T,d1)\n",
    "    \n",
    "    w1 += eps*delta_w1\n",
    "    w2 += eps*delta_w2\n",
    "    \n",
    "    error_2 = np.mean( np.square(e2))\n",
    "    \n",
    "    errores_2.append(error_2)\n",
    "\n",
    "    iter += 1\n",
    "    \n",
    "    if iter % 500 == 0: print(error_2,iter)"
   ]
  },
  {
   "cell_type": "code",
   "execution_count": 7,
   "metadata": {},
   "outputs": [
    {
     "name": "stdout",
     "output_type": "stream",
     "text": [
      "0.009972581301201072 3963\n"
     ]
    }
   ],
   "source": [
    "print(error_2,iter) # Ultimo error calculado e iteracion"
   ]
  },
  {
   "cell_type": "code",
   "execution_count": 8,
   "metadata": {
    "colab": {
     "base_uri": "https://localhost:8080/",
     "height": 472
    },
    "id": "NoDx5XsXMoW7",
    "outputId": "bcbf5e18-0fd0-487a-9f77-17fa81f5f817"
   },
   "outputs": [
    {
     "data": {
      "image/png": "[encoded data removed]",
      "text/plain": [
       "<Figure size 432x288 with 1 Axes>"
      ]
     },
     "metadata": {
      "needs_background": "light"
     },
     "output_type": "display_data"
    }
   ],
   "source": [
    "plt.plot(errores_2)\n",
    "plt.title(\"Errores capa de salida\", weight = \"bold\")\n",
    "plt.xlabel(\"Iteraciones\")\n",
    "plt.show()"
   ]
  },
  {
   "cell_type": "markdown",
   "metadata": {
    "id": "k0_TYlEfMvPJ"
   },
   "source": [
    "### 4 variables de entrada"
   ]
  },
  {
   "cell_type": "code",
   "execution_count": 9,
   "metadata": {
    "id": "GoNPfuqVMrio"
   },
   "outputs": [],
   "source": [
    "x4 = list( product( [0,1],repeat = 4 ) )\n",
    "x4 = np.array(x4) # Matrix 16x4 (P,Si)\n",
    "\n",
    "z4 = np.mod(np.sum(x4, axis=1), 2) # Matriz de paridad\n",
    "z4 = np.array(z4).reshape(-1,1) # Matriz 16x1 (P,So)"
   ]
  },
  {
   "cell_type": "code",
   "execution_count": 69,
   "metadata": {
    "id": "M36N1tpYMy27"
   },
   "outputs": [],
   "source": [
    "# P = 16, Si = 4, Sh = 15 (a eleccion, probar distintos valores) , So = 1\n",
    "Y0_4 = np.zeros((16,5)) # (P,Si+1)\n",
    "Y1_4 = np.zeros((16,16)) # (P,Sh+1)\n",
    "Y2_4 = np.zeros((16,1)) # (P,So)\n",
    "\n",
    "np.random.seed(20)\n",
    "W1_4 = np.random.normal(0,0.1,(5,15)) # (Si+1,Sh)\n",
    "W2_4 = np.random.normal(0,0.1,(16,1)) # (Sh+1,So)"
   ]
  },
  {
   "cell_type": "code",
   "execution_count": 70,
   "metadata": {
    "id": "5eK_ehDWM2Bh"
   },
   "outputs": [],
   "source": [
    "Y0_4[:] = bias_add(x4)\n",
    "Y1_4[:] = bias_add( sigmoid(np.dot( Y0_4,W1_4 )) ) # Probar distintas funciones de activacion \n",
    "Y2_4[:] = sigmoid( np.dot( Y1_4, W2_4 ) ) # Probar distintas funciones de activacion\n",
    "\n",
    "E2_4 = z4 - Y2_4\n",
    "dy2_4 = Y2_4*(1-Y2_4) # Cambiar derivada al cambiar funcion de activacion\n",
    "D2_4 = E2_4*dy2_4\n",
    "eps_4 = 0.88\n",
    "delta_W2_4 = eps_4*np.dot(Y1_4.T,D2_4)\n",
    "\n",
    "E1_4 = np.dot(D2_4,W2_4.T)\n",
    "dy1_4 = Y1_4*(1-Y1_4) # Cambiar derivada al cambiar funcion de activacion\n",
    "D1_4 = bias_sub(E1_4*dy1_4)\n",
    "delta_W1_4 = eps_4*np.dot(Y0_4.T,D1_4)\n",
    "\n",
    "W1_4 += eps_4*delta_W1_4\n",
    "W2_4 += eps_4*delta_W2_4"
   ]
  },
  {
   "cell_type": "code",
   "execution_count": 71,
   "metadata": {
    "colab": {
     "base_uri": "https://localhost:8080/"
    },
    "id": "NSLZjauLM4yl",
    "outputId": "2705aa21-f6ba-4745-b940-8758b7481f0f"
   },
   "outputs": [
    {
     "data": {
      "text/plain": [
       "0.2500416272593607"
      ]
     },
     "execution_count": 71,
     "metadata": {},
     "output_type": "execute_result"
    }
   ],
   "source": [
    "error_4 = np.mean( np.square(E2_4))\n",
    "error_4"
   ]
  },
  {
   "cell_type": "code",
   "execution_count": 72,
   "metadata": {
    "colab": {
     "base_uri": "https://localhost:8080/"
    },
    "id": "vYUAMZrYM-AU",
    "outputId": "4010a662-2680-4605-b0a8-f46368fc658c"
   },
   "outputs": [
    {
     "name": "stdout",
     "output_type": "stream",
     "text": [
      "0.25000056221013855 1000\n",
      "0.25000023147948913 2000\n",
      "0.2499999461673384 3000\n",
      "0.2499995763258671 4000\n",
      "0.2499988621219639 5000\n",
      "0.2499967880455572 6000\n",
      "0.2499864286766217 7000\n",
      "0.2497912747145148 8000\n",
      "0.06617951702567168 9000\n"
     ]
    }
   ],
   "source": [
    "iter = 0\n",
    "errores_4 = []\n",
    "while error_4 > 0.01 and iter < 9999:\n",
    "\n",
    "    Y1_4[:] = bias_add( sigmoid(np.dot( Y0_4,W1_4 )) ) # Probar distintas funciones de activacion \n",
    "    Y2_4[:] = sigmoid( np.dot( Y1_4, W2_4 ) ) # Probar distintas funciones de activacion\n",
    "\n",
    "    E2_4 = z4 - Y2_4\n",
    "    dy2_4 = Y2_4*(1-Y2_4) # Cambiar derivada al cambiar funcion de activacion\n",
    "    D2_4 = E2_4*dy2_4\n",
    "    delta_W2_4 = eps_4*np.dot(Y1_4.T,D2_4)\n",
    "\n",
    "    E1_4 = np.dot(D2_4,W2_4.T)\n",
    "    dy1_4 = Y1_4*(1-Y1_4) # Cambiar derivada al cambiar funcion de activacion\n",
    "    D1_4 = bias_sub(E1_4*dy1_4)\n",
    "    delta_W1_4 = eps_4*np.dot(Y0_4.T,D1_4)\n",
    "        \n",
    "    W1_4 += eps_4*delta_W1_4\n",
    "    W2_4 += eps_4*delta_W2_4\n",
    "\n",
    "    error_4 = np.mean( np.square(E2_4))\n",
    "    errores_4.append(error_4)\n",
    "\n",
    "    iter += 1\n",
    "    \n",
    "    if iter % 1000 == 0: print(error_4,iter)"
   ]
  },
  {
   "cell_type": "code",
   "execution_count": 73,
   "metadata": {},
   "outputs": [
    {
     "name": "stdout",
     "output_type": "stream",
     "text": [
      "0.06337102667727061 9999\n"
     ]
    }
   ],
   "source": [
    "print(error_4,iter) # Ultimo error calculado e iteracion"
   ]
  },
  {
   "cell_type": "code",
   "execution_count": 74,
   "metadata": {
    "colab": {
     "base_uri": "https://localhost:8080/",
     "height": 472
    },
    "id": "Rta7FKi0M_JH",
    "outputId": "2bcd74e1-9ffa-4067-c5ab-64c7b27efcaf"
   },
   "outputs": [
    {
     "data": {
      "image/png": "[encoded data removed]",
      "text/plain": [
       "<Figure size 432x288 with 1 Axes>"
      ]
     },
     "metadata": {
      "needs_background": "light"
     },
     "output_type": "display_data"
    }
   ],
   "source": [
    "plt.plot(errores_4)\n",
    "plt.title(\"Errores capa de salida\", weight = \"bold\")\n",
    "plt.xlabel(\"Iteraciones\")\n",
    "plt.show()"
   ]
  },
  {
   "cell_type": "markdown",
   "metadata": {
    "id": "pjKLRoVoNEsW"
   },
   "source": [
    "### 8 variables de entrada"
   ]
  },
  {
   "cell_type": "code",
   "execution_count": 40,
   "metadata": {
    "id": "7MvIlrpbNCFK"
   },
   "outputs": [],
   "source": [
    "x8 = list( product( [0,1],repeat = 8 ) )\n",
    "x8 = np.array(x8) # Matrix 256x8 (P,Si)\n",
    "\n",
    "z8 = np.mod(np.sum(x8, axis=1), 2) # Matriz de paridad\n",
    "z8 = np.array(z8).reshape(-1,1) # Matriz 256x1 (P,So)"
   ]
  },
  {
   "cell_type": "code",
   "execution_count": 154,
   "metadata": {
    "id": "_RAhTIyDNGsd"
   },
   "outputs": [],
   "source": [
    "# P = 256, Si = 8, Sh = 4 (a eleccion, probar distintos valores) , So = 1\n",
    "Y0_8 = np.zeros((256,9)) # (P,Si+1)\n",
    "Y1_8 = np.zeros((256,5)) # (P,Sh+1)\n",
    "Y2_8 = np.zeros((256,1)) # (P,So)\n",
    "\n",
    "np.random.seed(20)\n",
    "W1_8 = np.random.normal(0,0.1,(9,4)) # (Si+1,Sh)\n",
    "W2_8 = np.random.normal(0,0.1,(5,1)) # (Sh+1,So)"
   ]
  },
  {
   "cell_type": "code",
   "execution_count": 155,
   "metadata": {
    "id": "rBjki5ZVNJeX"
   },
   "outputs": [],
   "source": [
    "Y0_8[:] = bias_add(x8)\n",
    "Y1_8[:] = bias_add( sigmoid(np.dot( Y0_8,W1_8 )) ) # Probar distintas funciones de activacion \n",
    "Y2_8[:] = sigmoid( np.dot( Y1_8, W2_8 ) ) # Probar distintas funciones de activacion\n",
    "\n",
    "E2_8 = z8 - Y2_8\n",
    "dy2_8 = Y2_8*(1-Y2_8) # Cambiar derivada al cambiar funcion de activacion\n",
    "D2_8 = E2_8*dy2_8\n",
    "eps_8 = 0.875\n",
    "delta_W2_8 = eps_8*np.dot(Y1_8.T,D2_8)\n",
    "\n",
    "E1_8 = np.dot(D2_8,W2_8.T)\n",
    "dy1_8 = Y1_8*(1-Y1_8) # Cambiar derivada al cambiar funcion de activacion\n",
    "D1_8 = bias_sub(E1_8*dy1_8)\n",
    "delta_W1_8 = eps_8*np.dot(Y0_8.T,D1_8)\n",
    "\n",
    "W1_8 += eps_8*delta_W1_8\n",
    "W2_8 += eps_8*delta_W2_8"
   ]
  },
  {
   "cell_type": "code",
   "execution_count": 156,
   "metadata": {
    "colab": {
     "base_uri": "https://localhost:8080/"
    },
    "id": "7rJwEwJzNKA-",
    "outputId": "ab4095c0-ef4e-44ea-c13f-f9bad1b32f2c"
   },
   "outputs": [
    {
     "data": {
      "text/plain": [
       "0.2501381301315255"
      ]
     },
     "execution_count": 156,
     "metadata": {},
     "output_type": "execute_result"
    }
   ],
   "source": [
    "error_8 = np.mean( np.square(E2_8))\n",
    "error_8"
   ]
  },
  {
   "cell_type": "code",
   "execution_count": 157,
   "metadata": {
    "colab": {
     "base_uri": "https://localhost:8080/"
    },
    "id": "ogvr1MmYNOxL",
    "outputId": "6be3ac20-536d-4b18-c277-735afcc7cfa3"
   },
   "outputs": [
    {
     "name": "stdout",
     "output_type": "stream",
     "text": [
      "0.49174049338597564 1000\n",
      "0.30297309846849607 2000\n",
      "0.49939901047314794 3000\n",
      "0.4977734891170147 4000\n",
      "0.49124855940727363 5000\n",
      "0.49923274439117626 6000\n",
      "0.44730364460999805 7000\n",
      "0.32898139365902335 8000\n",
      "0.49489573741049137 9000\n"
     ]
    }
   ],
   "source": [
    "iter = 0\n",
    "errores_8 = [error_8]\n",
    "while error_8 > 0.01 and iter < 9999:\n",
    "    Y1_8[:] = bias_add( sigmoid(np.dot( Y0_8,W1_8 )) ) # Probar distintas funciones de activacion \n",
    "    Y2_8[:] = sigmoid( np.dot( Y1_8, W2_8 ) ) # Probar distintas funciones de activacion\n",
    "\n",
    "    E2_8 = z8 - Y2_8\n",
    "    dy2_8 = Y2_8*(1-Y2_8) # Cambiar derivada al cambiar funcion de activacion\n",
    "    D2_8 = E2_8*dy2_8\n",
    "    delta_W2_8 = eps_8*np.dot(Y1_8.T,D2_8)\n",
    "\n",
    "    E1_8 = np.dot(D2_8,W2_8.T)\n",
    "    dy1_8 = Y1_8*(1-Y1_8) # Cambiar derivada al cambiar funcion de activacion\n",
    "    D1_8 = bias_sub(E1_8*dy1_8)\n",
    "    delta_W1_8 = eps_8*np.dot(Y0_8.T,D1_8)\n",
    "    \n",
    "    W1_8 += eps_8*delta_W1_8\n",
    "    W2_8 += eps_8*delta_W2_8\n",
    "\n",
    "    error_8 = np.mean( np.square(E2_8))\n",
    "    errores_8.append(error_8)\n",
    "    iter += 1\n",
    "    \n",
    "    if iter % 1000 == 0: print(error_8,iter)"
   ]
  },
  {
   "cell_type": "code",
   "execution_count": 141,
   "metadata": {},
   "outputs": [
    {
     "name": "stdout",
     "output_type": "stream",
     "text": [
      "0.4430970972152223 9999\n"
     ]
    }
   ],
   "source": [
    "print(error_8,iter) # Ultimo error calculado e iteracion"
   ]
  },
  {
   "cell_type": "code",
   "execution_count": 136,
   "metadata": {
    "colab": {
     "base_uri": "https://localhost:8080/",
     "height": 472
    },
    "id": "iaZKexDYNP4u",
    "outputId": "89c459db-650e-4370-9394-1fee8311ae0e"
   },
   "outputs": [
    {
     "data": {
      "image/png": "[encoded data removed]",
      "text/plain": [
       "<Figure size 432x288 with 1 Axes>"
      ]
     },
     "metadata": {
      "needs_background": "light"
     },
     "output_type": "display_data"
    }
   ],
   "source": [
    "plt.plot(errores_8)\n",
    "plt.title(\"Errores capa de salida\", weight = \"bold\")\n",
    "plt.xlabel(\"Iteraciones\")\n",
    "plt.show()"
   ]
  },
  {
   "cell_type": "code",
   "execution_count": null,
   "metadata": {},
   "outputs": [],
   "source": [
    "# No converge este de 8 variables de entrada..."
   ]
  },
  {
   "cell_type": "markdown",
   "metadata": {
    "id": "lRhyxUSkNZDQ"
   },
   "source": [
    "### 10 variables de entrada\n",
    "analogo..."
   ]
  }
 ],
 "metadata": {
  "colab": {
   "provenance": []
  },
  "kernelspec": {
   "display_name": "Python 3",
   "language": "python",
   "name": "python3"
  },
  "language_info": {
   "codemirror_mode": {
    "name": "ipython",
    "version": 3
   },
   "file_extension": ".py",
   "mimetype": "text/x-python",
   "name": "python",
   "nbconvert_exporter": "python",
   "pygments_lexer": "ipython3",
   "version": "3.8.10"
  }
 },
 "nbformat": 4,
 "nbformat_minor": 1
}
