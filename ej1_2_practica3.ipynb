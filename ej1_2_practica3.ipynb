{
  "nbformat": 4,
  "nbformat_minor": 0,
  "metadata": {
    "colab": {
      "provenance": []
    },
    "kernelspec": {
      "name": "python3",
      "display_name": "Python 3"
    },
    "language_info": {
      "name": "python"
    }
  },
  "cells": [
    {
      "cell_type": "markdown",
      "source": [
        "# Practica 3\n",
        "## Arquitecturas y aplicaciones\n",
        "### Ejercicio 1.2 Clasificacion"
      ],
      "metadata": {
        "id": "jShwcGAQrrGC"
      }
    },
    {
      "cell_type": "code",
      "execution_count": 1,
      "metadata": {
        "id": "Cen36_UmrZpf"
      },
      "outputs": [],
      "source": [
        "import numpy as np\n",
        "import matplotlib.pyplot as plt\n",
        "import pandas as pd\n",
        "\n",
        "def bias_add(V):\n",
        "    bias = -np.ones( (len(V),1) )\n",
        "    return np.concatenate( (V,bias), axis=1)\n",
        "\n",
        "def bias_sub(V):\n",
        "    return V[:,:-1] # Saco la ultima columna\n",
        "\n",
        "def softmax(x): # Toma un vector\n",
        "    exp_x = np.exp(x)\n",
        "    return exp_x / np.sum(exp_x)\n",
        "\n",
        "def softmax_derivative(x):\n",
        "    s = softmax(x)\n",
        "    jacobian = np.diag(s)\n",
        "    for i in range(len(jacobian)):\n",
        "        for j in range(len(jacobian)):\n",
        "            if i != j:\n",
        "                jacobian[i, j] = -s[i] * s[j]\n",
        "    return jacobian\n",
        "\n",
        "def sigmoid(x):\n",
        "    res = 1 / ( 1 + np.exp(-x) )\n",
        "    return res"
      ]
    },
    {
      "cell_type": "code",
      "source": [
        "def activation(X,S,W): \n",
        "    \n",
        "    Y = [] # L capas Y_o, Y_1, Y_2, .... Y_l-1\n",
        "    i = 0\n",
        "    P = len(X)\n",
        "    for s in S: \n",
        "        if i == len(S)-1:\n",
        "            Y.append( np.zeros((P,s)) )\n",
        "            i += 1\n",
        "        else:\n",
        "            Y.append( np.zeros((P,s+1)) )\n",
        "            i += 1\n",
        "        \n",
        "    Y[0][:] = bias_add(X)\n",
        "    \n",
        "    for k in range(1,len(S)-1):\n",
        "        Y[k][:] = bias_add( sigmoid( np.dot(Y[k-1],W[k]) ) )\n",
        "        \n",
        "    Y[-1][:] = softmax( np.dot(Y[-2],W[-1]) ) # Capa de salida\n",
        "    return Y  "
      ],
      "metadata": {
        "id": "rGQvQTwordY3"
      },
      "execution_count": 2,
      "outputs": []
    },
    {
      "cell_type": "code",
      "source": [
        "def correction(Y,Z,S,W):\n",
        "    delta_W = [0] # primer elemento vacio\n",
        "    \n",
        "    for i in range(1,len(S)): # S contiene los size de las capas\n",
        "        delta_W.append( np.zeros( (S[i-1]+1,S[i]) ) )\n",
        "        \n",
        "    L = len(S) \n",
        "    E = [0]*L # size L \n",
        "    D = [0]*L # size L\n",
        "    d = [0]*L # size L\n",
        "    \n",
        "    E[L-1] = Z - Y[-1]\n",
        "    d[L-1] = softmax_derivative(Y[-1]) \n",
        "    D[L-1] = E[-1]*d[-1] \n",
        "        \n",
        "    for k in reversed(np.arange(1,L)):\n",
        "        delta_W[k] = lr * np.dot( Y[k-1].T, D[k]) # lr = learning rate (variable global)\n",
        "        E[k] = np.dot( D[k], W[k].T )\n",
        "        d[k] = sigmoid( Y[k-1] ) * ( 1 - sigmoid(Y[k-1] ) )\n",
        "        D[k-1] = ( bias_sub( E[k]*d[k] ) )\n",
        "    return delta_W"
      ],
      "metadata": {
        "id": "edPFKToire4h"
      },
      "execution_count": 18,
      "outputs": []
    },
    {
      "cell_type": "code",
      "source": [
        "def adaptation(S,W,delta_W):\n",
        "  L = len(S) \n",
        "  for k in range(1,L-1):\n",
        "    W[k] += delta_W[k]\n",
        "  return W"
      ],
      "metadata": {
        "id": "k_Sy_oIT9J1d"
      },
      "execution_count": 4,
      "outputs": []
    },
    {
      "cell_type": "code",
      "source": [
        "def cross_entropy_loss(y_hat, y_true):\n",
        "  \n",
        "    # if y_hat.ndim == 2 and y_hat.shape[1] == 1:\n",
        "    #     y_hat = y_hat.reshape(-1)  # reshape to 1D array\n",
        "    # if y_true.ndim == 1:\n",
        "    #     y_true = y_true[:, np.newaxis]  # add new axis\n",
        "\n",
        "    n_samples = y_hat.shape[0]\n",
        "    loss = -np.sum(y_true * np.log(y_hat)) / n_samples\n",
        "    return loss"
      ],
      "metadata": {
        "id": "Ywp8XZKeriJC"
      },
      "execution_count": 5,
      "outputs": []
    },
    {
      "cell_type": "code",
      "source": [
        "def train(X, Z, S, W, lr, eps, epoch):\n",
        "\n",
        "  error = 1\n",
        "  iter = 0\n",
        "  errores = []\n",
        "  while error > eps and iter < epoch:\n",
        "\n",
        "    Y = activation(X,S,W)\n",
        "    delta_w = correction(Y,Z,S,W)\n",
        "    W = adaptation(S,W,delta_w)\n",
        "    error = cross_entropy_loss(Y[-1],Z)\n",
        "\n",
        "    errores.append(error)\n",
        "    iter += 1\n",
        "\n",
        "  return errores"
      ],
      "metadata": {
        "id": "eeYBmRgRrloN"
      },
      "execution_count": 7,
      "outputs": []
    },
    {
      "cell_type": "code",
      "source": [
        "datos_clasif_4 = pd.read_csv('/content/p13_ej4_classif.csv', header = None ) # Ultima columna son los datos objetivo. Los otros de entrada"
      ],
      "metadata": {
        "id": "iwb4cojBrxoY"
      },
      "execution_count": 8,
      "outputs": []
    },
    {
      "cell_type": "code",
      "source": [
        "datos_clasif_4.head()"
      ],
      "metadata": {
        "colab": {
          "base_uri": "https://localhost:8080/",
          "height": 204
        },
        "id": "biRtfHwHr92g",
        "outputId": "59a8f80d-ff68-4163-b3b1-7ff3520d3fb6"
      },
      "execution_count": 9,
      "outputs": [
        {
          "output_type": "execute_result",
          "data": {
            "text/plain": [
              "          0         1  2\n",
              "0 -0.056240  0.336536  1\n",
              "1  0.093222  0.138700  1\n",
              "2  2.242435  3.008840  2\n",
              "3  0.005527 -0.138740  1\n",
              "4 -2.143559  2.439455  2"
            ],
            "text/html": [
              "\n",
              "  <div id=\"df-78924efb-f5f5-4b94-bb7c-436fc3bc9041\">\n",
              "    <div class=\"colab-df-container\">\n",
              "      <div>\n",
              "<style scoped>\n",
              "    .dataframe tbody tr th:only-of-type {\n",
              "        vertical-align: middle;\n",
              "    }\n",
              "\n",
              "    .dataframe tbody tr th {\n",
              "        vertical-align: top;\n",
              "    }\n",
              "\n",
              "    .dataframe thead th {\n",
              "        text-align: right;\n",
              "    }\n",
              "</style>\n",
              "<table border=\"1\" class=\"dataframe\">\n",
              "  <thead>\n",
              "    <tr style=\"text-align: right;\">\n",
              "      <th></th>\n",
              "      <th>0</th>\n",
              "      <th>1</th>\n",
              "      <th>2</th>\n",
              "    </tr>\n",
              "  </thead>\n",
              "  <tbody>\n",
              "    <tr>\n",
              "      <th>0</th>\n",
              "      <td>-0.056240</td>\n",
              "      <td>0.336536</td>\n",
              "      <td>1</td>\n",
              "    </tr>\n",
              "    <tr>\n",
              "      <th>1</th>\n",
              "      <td>0.093222</td>\n",
              "      <td>0.138700</td>\n",
              "      <td>1</td>\n",
              "    </tr>\n",
              "    <tr>\n",
              "      <th>2</th>\n",
              "      <td>2.242435</td>\n",
              "      <td>3.008840</td>\n",
              "      <td>2</td>\n",
              "    </tr>\n",
              "    <tr>\n",
              "      <th>3</th>\n",
              "      <td>0.005527</td>\n",
              "      <td>-0.138740</td>\n",
              "      <td>1</td>\n",
              "    </tr>\n",
              "    <tr>\n",
              "      <th>4</th>\n",
              "      <td>-2.143559</td>\n",
              "      <td>2.439455</td>\n",
              "      <td>2</td>\n",
              "    </tr>\n",
              "  </tbody>\n",
              "</table>\n",
              "</div>\n",
              "      <button class=\"colab-df-convert\" onclick=\"convertToInteractive('df-78924efb-f5f5-4b94-bb7c-436fc3bc9041')\"\n",
              "              title=\"Convert this dataframe to an interactive table.\"\n",
              "              style=\"display:none;\">\n",
              "        \n",
              "  <svg xmlns=\"http://www.w3.org/2000/svg\" height=\"24px\"viewBox=\"0 0 24 24\"\n",
              "       width=\"24px\">\n",
              "    <path d=\"M0 0h24v24H0V0z\" fill=\"none\"/>\n",
              "    <path d=\"M18.56 5.44l.94 2.06.94-2.06 2.06-.94-2.06-.94-.94-2.06-.94 2.06-2.06.94zm-11 1L8.5 8.5l.94-2.06 2.06-.94-2.06-.94L8.5 2.5l-.94 2.06-2.06.94zm10 10l.94 2.06.94-2.06 2.06-.94-2.06-.94-.94-2.06-.94 2.06-2.06.94z\"/><path d=\"M17.41 7.96l-1.37-1.37c-.4-.4-.92-.59-1.43-.59-.52 0-1.04.2-1.43.59L10.3 9.45l-7.72 7.72c-.78.78-.78 2.05 0 2.83L4 21.41c.39.39.9.59 1.41.59.51 0 1.02-.2 1.41-.59l7.78-7.78 2.81-2.81c.8-.78.8-2.07 0-2.86zM5.41 20L4 18.59l7.72-7.72 1.47 1.35L5.41 20z\"/>\n",
              "  </svg>\n",
              "      </button>\n",
              "      \n",
              "  <style>\n",
              "    .colab-df-container {\n",
              "      display:flex;\n",
              "      flex-wrap:wrap;\n",
              "      gap: 12px;\n",
              "    }\n",
              "\n",
              "    .colab-df-convert {\n",
              "      background-color: #E8F0FE;\n",
              "      border: none;\n",
              "      border-radius: 50%;\n",
              "      cursor: pointer;\n",
              "      display: none;\n",
              "      fill: #1967D2;\n",
              "      height: 32px;\n",
              "      padding: 0 0 0 0;\n",
              "      width: 32px;\n",
              "    }\n",
              "\n",
              "    .colab-df-convert:hover {\n",
              "      background-color: #E2EBFA;\n",
              "      box-shadow: 0px 1px 2px rgba(60, 64, 67, 0.3), 0px 1px 3px 1px rgba(60, 64, 67, 0.15);\n",
              "      fill: #174EA6;\n",
              "    }\n",
              "\n",
              "    [theme=dark] .colab-df-convert {\n",
              "      background-color: #3B4455;\n",
              "      fill: #D2E3FC;\n",
              "    }\n",
              "\n",
              "    [theme=dark] .colab-df-convert:hover {\n",
              "      background-color: #434B5C;\n",
              "      box-shadow: 0px 1px 3px 1px rgba(0, 0, 0, 0.15);\n",
              "      filter: drop-shadow(0px 1px 2px rgba(0, 0, 0, 0.3));\n",
              "      fill: #FFFFFF;\n",
              "    }\n",
              "  </style>\n",
              "\n",
              "      <script>\n",
              "        const buttonEl =\n",
              "          document.querySelector('#df-78924efb-f5f5-4b94-bb7c-436fc3bc9041 button.colab-df-convert');\n",
              "        buttonEl.style.display =\n",
              "          google.colab.kernel.accessAllowed ? 'block' : 'none';\n",
              "\n",
              "        async function convertToInteractive(key) {\n",
              "          const element = document.querySelector('#df-78924efb-f5f5-4b94-bb7c-436fc3bc9041');\n",
              "          const dataTable =\n",
              "            await google.colab.kernel.invokeFunction('convertToInteractive',\n",
              "                                                     [key], {});\n",
              "          if (!dataTable) return;\n",
              "\n",
              "          const docLinkHtml = 'Like what you see? Visit the ' +\n",
              "            '<a target=\"_blank\" href=https://colab.research.google.com/notebooks/data_table.ipynb>data table notebook</a>'\n",
              "            + ' to learn more about interactive tables.';\n",
              "          element.innerHTML = '';\n",
              "          dataTable['output_type'] = 'display_data';\n",
              "          await google.colab.output.renderOutput(dataTable, element);\n",
              "          const docLink = document.createElement('div');\n",
              "          docLink.innerHTML = docLinkHtml;\n",
              "          element.appendChild(docLink);\n",
              "        }\n",
              "      </script>\n",
              "    </div>\n",
              "  </div>\n",
              "  "
            ]
          },
          "metadata": {},
          "execution_count": 9
        }
      ]
    },
    {
      "cell_type": "code",
      "source": [
        "datos_clasif_4[2].unique() # 3 clases --> 1 | 2 | 3"
      ],
      "metadata": {
        "colab": {
          "base_uri": "https://localhost:8080/"
        },
        "id": "34UIOjj_sF5T",
        "outputId": "20f1949b-1a0e-4eee-d535-6af190e34262"
      },
      "execution_count": 10,
      "outputs": [
        {
          "output_type": "execute_result",
          "data": {
            "text/plain": [
              "array([1, 2, 3])"
            ]
          },
          "metadata": {},
          "execution_count": 10
        }
      ]
    },
    {
      "cell_type": "code",
      "source": [
        "X = np.concatenate( ( np.array(datos_clasif_4[0]).reshape(-1,1), np.array(datos_clasif_4[1]).reshape(-1,1) ), axis =1 )\n",
        "Z = np.array(datos_clasif_4[2]).reshape(-1,1)\n",
        "Z = Z - 1\n",
        "\n",
        "print(X.shape)\n",
        "print(Z.shape)"
      ],
      "metadata": {
        "colab": {
          "base_uri": "https://localhost:8080/"
        },
        "id": "BG46yyJ1sMse",
        "outputId": "6d4df9aa-ef0c-4ebb-c352-70455daa122d"
      },
      "execution_count": 11,
      "outputs": [
        {
          "output_type": "stream",
          "name": "stdout",
          "text": [
            "(999, 2)\n",
            "(999, 1)\n"
          ]
        }
      ]
    },
    {
      "cell_type": "code",
      "source": [
        "# Defino S y W\n",
        "# Los elementos del medio de S representan las dimensiones (columnas) de la capa oculta\n",
        "\n",
        "S = [len(X[0]),20,7,len(Z[0])]\n",
        "W = [0]\n",
        "lr = 0.05\n",
        "\n",
        "np.random.seed(10)\n",
        "for i in range(0,len(S)-1):\n",
        "  w_i = np.random.uniform( 1, 3, (S[i]+1,S[i+1]) )\n",
        "  W.append(w_i)\n",
        "\n",
        "errs = train(X, Z, S, W, lr, 1e-3, 100)\n",
        "print('Ultimo error: ',errs[-1])\n",
        "plt.plot(errs)\n",
        "plt.show()"
      ],
      "metadata": {
        "colab": {
          "base_uri": "https://localhost:8080/",
          "height": 447
        },
        "id": "tvckaFvDsZ_i",
        "outputId": "db0ab528-cff2-4af8-e36c-be8bb4993b06"
      },
      "execution_count": 38,
      "outputs": [
        {
          "output_type": "stream",
          "name": "stdout",
          "text": [
            "Ultimo error:  6.937711306673371\n"
          ]
        },
        {
          "output_type": "display_data",
          "data": {
            "text/plain": [
              "<Figure size 640x480 with 1 Axes>"
            ],
            "image/png": "[encoded data removed]"
          },
          "metadata": {}
        }
      ]
    }
  ]
}