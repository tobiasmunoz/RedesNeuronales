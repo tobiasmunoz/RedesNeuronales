{
 "cells": [
  {
   "cell_type": "markdown",
   "metadata": {
    "id": "8Y5YYSZ3OrUy"
   },
   "source": [
    "# Practica 3\n",
    "## Arquitecturas y aplicaciones\n",
    "### Ejercicio 1.1 Regresion"
   ]
  },
  {
   "cell_type": "code",
   "execution_count": 1,
   "metadata": {
    "id": "0VQbhARo69V9"
   },
   "outputs": [],
   "source": [
    "import numpy as np\n",
    "import matplotlib.pyplot as plt\n",
    "import pandas as pd\n",
    "\n",
    "def bias_add(V):\n",
    "    bias = -np.ones( (len(V),1) )\n",
    "    return np.concatenate( (V,bias), axis=1)\n",
    "\n",
    "def bias_sub(V):\n",
    "    return V[:,:-1] # Saco la ultima columna"
   ]
  },
  {
   "cell_type": "code",
   "execution_count": 2,
   "metadata": {
    "id": "CoFp6Gy97BGc"
   },
   "outputs": [],
   "source": [
    "def activation(X): \n",
    "    \n",
    "    Y = [] # L capas Y_o, Y_1, Y_2, .... Y_l-1\n",
    "    i = 0\n",
    "    P = len(X)\n",
    "    for s in S: # S variable global con los sizes de las capas \n",
    "        if i == len(S)-1:\n",
    "            Y.append( np.zeros((P,s)) )\n",
    "            i += 1\n",
    "        else:\n",
    "            Y.append( np.zeros((P,s+1)) )\n",
    "            i += 1\n",
    "        \n",
    "    Y[0][:] = bias_add(X)\n",
    "    \n",
    "    for k in range(1,len(S)-1):\n",
    "        Y[k][:] = bias_add( np.tanh( np.dot(Y[k-1],W[k]) ) ) # W global (se arman a parte)\n",
    "        \n",
    "    Y[-1][:] = np.tanh( np.dot(Y[-2],W[-1]) )\n",
    "    return Y  "
   ]
  },
  {
   "cell_type": "code",
   "execution_count": 3,
   "metadata": {
    "id": "zv8kaaFt7Cj5"
   },
   "outputs": [],
   "source": [
    "def correction(Y,Z):\n",
    "    delta_W = [0] # primer elemento vacio\n",
    "    \n",
    "    for i in range(1,len(S)): # S variable global con los sizes de las capas \n",
    "        delta_W.append( np.zeros( (S[i-1]+1,S[i]) ) )\n",
    "        \n",
    "    L = len(S) \n",
    "    E = [0]*L # size L \n",
    "    D = [0]*L # size L\n",
    "    d = [0]*L # size L\n",
    "    \n",
    "    E[L-1] =  Z - Y[-1]  \n",
    "    d[L-1] = 1 - Y[-1]**2\n",
    "    D[L-1] = E[-1]*d[-1] \n",
    "        \n",
    "    for k in reversed(np.arange(1,L)):\n",
    "        delta_W[k] = lr * np.dot( Y[k-1].T, D[k]) # lr = learning rate (variable global)\n",
    "        E[k] = np.dot( D[k], W[k].T )\n",
    "        d[k] = ( 1 - Y[k-1]**2 )\n",
    "        D[k-1] = ( bias_sub( E[k]*d[k] ) )\n",
    "    return delta_W"
   ]
  },
  {
   "cell_type": "code",
   "execution_count": 4,
   "metadata": {
    "id": "lmd6eDay7EOV"
   },
   "outputs": [],
   "source": [
    "def adaptation(W,delta_W):\n",
    "  L = len(S) # S Variable global\n",
    "  for k in range(1,L-1):\n",
    "    W[k] += delta_W[k]\n",
    "  return W"
   ]
  },
  {
   "cell_type": "code",
   "execution_count": 5,
   "metadata": {
    "id": "mRn7CN5y7GPW"
   },
   "outputs": [],
   "source": [
    "def estimation(Z,Y):\n",
    "  est = np.mean( np.square(Z - Y) )\n",
    "  return est"
   ]
  },
  {
   "cell_type": "code",
   "execution_count": 7,
   "metadata": {
    "id": "1x8iT9Qj7Hok"
   },
   "outputs": [],
   "source": [
    "datos1 = pd.read_csv('p13_data/p13_ej1_regress.csv', header = None ) # Ultima columna son los datos objetivo. Los otros de entrada"
   ]
  },
  {
   "cell_type": "code",
   "execution_count": 8,
   "metadata": {
    "colab": {
     "base_uri": "https://localhost:8080/",
     "height": 204
    },
    "id": "b3PVeC8T7TrN",
    "outputId": "cfec4f71-ee51-4308-c15c-f3bcb35a5ac3"
   },
   "outputs": [
    {
     "data": {
      "text/html": [
       "<div>\n",
       "<style scoped>\n",
       "    .dataframe tbody tr th:only-of-type {\n",
       "        vertical-align: middle;\n",
       "    }\n",
       "\n",
       "    .dataframe tbody tr th {\n",
       "        vertical-align: top;\n",
       "    }\n",
       "\n",
       "    .dataframe thead th {\n",
       "        text-align: right;\n",
       "    }\n",
       "</style>\n",
       "<table border=\"1\" class=\"dataframe\">\n",
       "  <thead>\n",
       "    <tr style=\"text-align: right;\">\n",
       "      <th></th>\n",
       "      <th>0</th>\n",
       "      <th>1</th>\n",
       "      <th>2</th>\n",
       "    </tr>\n",
       "  </thead>\n",
       "  <tbody>\n",
       "    <tr>\n",
       "      <th>0</th>\n",
       "      <td>2.068351</td>\n",
       "      <td>-2.373603</td>\n",
       "      <td>0.243969</td>\n",
       "    </tr>\n",
       "    <tr>\n",
       "      <th>1</th>\n",
       "      <td>1.199141</td>\n",
       "      <td>2.261119</td>\n",
       "      <td>0.107950</td>\n",
       "    </tr>\n",
       "    <tr>\n",
       "      <th>2</th>\n",
       "      <td>2.743351</td>\n",
       "      <td>2.670040</td>\n",
       "      <td>0.104728</td>\n",
       "    </tr>\n",
       "    <tr>\n",
       "      <th>3</th>\n",
       "      <td>-0.928589</td>\n",
       "      <td>-1.712618</td>\n",
       "      <td>-0.097826</td>\n",
       "    </tr>\n",
       "    <tr>\n",
       "      <th>4</th>\n",
       "      <td>-1.995049</td>\n",
       "      <td>0.218964</td>\n",
       "      <td>-0.639999</td>\n",
       "    </tr>\n",
       "  </tbody>\n",
       "</table>\n",
       "</div>"
      ],
      "text/plain": [
       "          0         1         2\n",
       "0  2.068351 -2.373603  0.243969\n",
       "1  1.199141  2.261119  0.107950\n",
       "2  2.743351  2.670040  0.104728\n",
       "3 -0.928589 -1.712618 -0.097826\n",
       "4 -1.995049  0.218964 -0.639999"
      ]
     },
     "execution_count": 8,
     "metadata": {},
     "output_type": "execute_result"
    }
   ],
   "source": [
    "datos1.head()"
   ]
  },
  {
   "cell_type": "code",
   "execution_count": 26,
   "metadata": {
    "colab": {
     "base_uri": "https://localhost:8080/"
    },
    "id": "l3gCd70D770P",
    "outputId": "e29387e7-d825-45d8-cfae-1b4554f1aeaf"
   },
   "outputs": [
    {
     "name": "stdout",
     "output_type": "stream",
     "text": [
      "(5000, 2)\n",
      "(5000, 1)\n"
     ]
    }
   ],
   "source": [
    "X = np.concatenate( ( np.array(datos1[0]).reshape(-1,1), np.array(datos1[0]).reshape(-1,1) ), axis =1 )\n",
    "Z = np.array(datos1[2]).reshape(-1,1)\n",
    "\n",
    "print(X.shape)\n",
    "print(Z.shape)"
   ]
  },
  {
   "cell_type": "code",
   "execution_count": 109,
   "metadata": {
    "id": "1cQkFr35V0H4"
   },
   "outputs": [],
   "source": [
    "def train(X, Z, S, W, lr, eps, epoch):\n",
    " \n",
    "  error = 1\n",
    "  iter = 0\n",
    "  errores = []\n",
    "  P = len(X)\n",
    "  while error > eps and iter < epoch:\n",
    "        \n",
    "        Y = activation(X)\n",
    "        delta_w = correction(Y,Z)\n",
    "        W = adaptation(W,delta_w)\n",
    "        error = estimation(Z,Y[-1])\n",
    "        errores.append(error)\n",
    "        iter += 1\n",
    "\n",
    "  return errores"
   ]
  },
  {
   "cell_type": "code",
   "execution_count": 110,
   "metadata": {},
   "outputs": [],
   "source": [
    "def train_stochastic(X, Z, S, W, lr, eps, epoch):\n",
    "    \n",
    "  error = 1\n",
    "  iter = 0\n",
    "  errores = []\n",
    "  P = len(X)\n",
    "  while error > eps and iter < epoch:\n",
    "    e = 0\n",
    "    stochastic = np.random.permutation(P)\n",
    "    for h in stochastic:\n",
    "        Xh = X[h:h+1]\n",
    "        Zh = Z[h:h+1]\n",
    "\n",
    "        Y = activation(Xh)\n",
    "        delta_w = correction(Y,Zh)\n",
    "        W = adaptation(W,delta_w)\n",
    "        e += np.sum( np.square( Z - Y[-1] ))\n",
    "        \n",
    "    error = e/P\n",
    "    errores.append(error)\n",
    "    iter += 1\n",
    "\n",
    "  return errores"
   ]
  },
  {
   "cell_type": "code",
   "execution_count": 108,
   "metadata": {
    "colab": {
     "base_uri": "https://localhost:8080/",
     "height": 447
    },
    "id": "6anH4p4dW-1C",
    "outputId": "26764708-64af-4eba-c65f-e7dd853a18d9"
   },
   "outputs": [
    {
     "name": "stdout",
     "output_type": "stream",
     "text": [
      "Ultimo error:  0.11543588468778648\n"
     ]
    },
    {
     "data": {
      "image/png": "[encoded data removed]",
      "text/plain": [
       "<Figure size 432x288 with 1 Axes>"
      ]
     },
     "metadata": {
      "needs_background": "light"
     },
     "output_type": "display_data"
    }
   ],
   "source": [
    "# Defino S y W, variables globales que se usan en las funciones\n",
    "# Los elementos del medio de S representan las dimensiones (columnas) de la capa oculta\n",
    "\n",
    "S = [len(X[0]),4,7,len(Z[0])] # [2,1,1]\n",
    "W = [0]\n",
    "lr = 0.01\n",
    "\n",
    "np.random.seed(10)\n",
    "for i in range(0,len(S)-1):\n",
    "  w_i = np.random.normal( 0, 0.1, (S[i]+1,S[i+1]) )\n",
    "  W.append(w_i)\n",
    "\n",
    "errs = train(X, Z, S, W, lr, 1e-3, 10)\n",
    "print('Ultimo error: ',errs[-1])\n",
    "plt.plot(errs)\n",
    "plt.show()"
   ]
  },
  {
   "cell_type": "code",
   "execution_count": 105,
   "metadata": {},
   "outputs": [
    {
     "name": "stdout",
     "output_type": "stream",
     "text": [
      "Ultimo error:  1101.762082541669\n"
     ]
    },
    {
     "data": {
      "image/png": "[encoded data removed]",
      "text/plain": [
       "<Figure size 432x288 with 1 Axes>"
      ]
     },
     "metadata": {
      "needs_background": "light"
     },
     "output_type": "display_data"
    }
   ],
   "source": [
    "errs_stochastic = train_stochastic(X, Z, S, W, lr, 1e-3, 10)\n",
    "print('Ultimo error: ',errs_stochastic[-1])\n",
    "plt.plot(errs_stochastic)\n",
    "plt.show()"
   ]
  }
 ],
 "metadata": {
  "colab": {
   "provenance": []
  },
  "kernelspec": {
   "display_name": "Python 3",
   "language": "python",
   "name": "python3"
  },
  "language_info": {
   "codemirror_mode": {
    "name": "ipython",
    "version": 3
   },
   "file_extension": ".py",
   "mimetype": "text/x-python",
   "name": "python",
   "nbconvert_exporter": "python",
   "pygments_lexer": "ipython3",
   "version": "3.8.10"
  }
 },
 "nbformat": 4,
 "nbformat_minor": 1
}
