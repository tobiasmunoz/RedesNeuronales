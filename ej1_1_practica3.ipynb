{
  "nbformat": 4,
  "nbformat_minor": 0,
  "metadata": {
    "colab": {
      "provenance": []
    },
    "kernelspec": {
      "name": "python3",
      "display_name": "Python 3"
    },
    "language_info": {
      "name": "python"
    }
  },
  "cells": [
    {
      "cell_type": "markdown",
      "source": [
        "# Practica 3\n",
        "## Arquitecturas y aplicaciones\n",
        "### Ejercicio 1.1 Regresion"
      ],
      "metadata": {
        "id": "8Y5YYSZ3OrUy"
      }
    },
    {
      "cell_type": "code",
      "execution_count": 1,
      "metadata": {
        "id": "0VQbhARo69V9"
      },
      "outputs": [],
      "source": [
        "import numpy as np\n",
        "import matplotlib.pyplot as plt\n",
        "import pandas as pd\n",
        "\n",
        "def bias_add(V):\n",
        "    bias = -np.ones( (len(V),1) )\n",
        "    return np.concatenate( (V,bias), axis=1)\n",
        "\n",
        "def bias_sub(V):\n",
        "    return V[:,:-1] # Saco la ultima columna"
      ]
    },
    {
      "cell_type": "code",
      "source": [
        "def activation(X,S,W): \n",
        "    \n",
        "    Y = [] # L capas Y_o, Y_1, Y_2, .... Y_l-1\n",
        "    i = 0\n",
        "    P = len(X)\n",
        "    for s in S: \n",
        "        if i == len(S)-1:\n",
        "            Y.append( np.zeros((P,s)) )\n",
        "            i += 1\n",
        "        else:\n",
        "            Y.append( np.zeros((P,s+1)) )\n",
        "            i += 1\n",
        "        \n",
        "    Y[0][:] = bias_add(X)\n",
        "    \n",
        "    for k in range(1,len(S)-1):\n",
        "        Y[k][:] = bias_add( np.tanh( np.dot(Y[k-1],W[k]) ) )\n",
        "        \n",
        "    Y[-1][:] = np.tanh( np.dot(Y[-2],W[-1]) )\n",
        "    return Y  "
      ],
      "metadata": {
        "id": "CoFp6Gy97BGc"
      },
      "execution_count": 16,
      "outputs": []
    },
    {
      "cell_type": "code",
      "source": [
        "def correction(Y,Z,S,W):\n",
        "    delta_W = [0] # primer elemento vacio\n",
        "    \n",
        "    for i in range(1,len(S)): # S contiene los size de las capas\n",
        "        delta_W.append( np.zeros( (S[i-1]+1,S[i]) ) )\n",
        "        \n",
        "    L = len(S) \n",
        "    E = [0]*L # size L \n",
        "    D = [0]*L # size L\n",
        "    d = [0]*L # size L\n",
        "    \n",
        "    E[L-1] =  Z - Y[-1]  \n",
        "    d[L-1] = 1 - Y[-1]**2\n",
        "    D[L-1] = E[-1]*d[-1] \n",
        "        \n",
        "    for k in reversed(np.arange(1,L)):\n",
        "        delta_W[k] = lr * np.dot( Y[k-1].T, D[k]) # lr = learning rate (variable global)\n",
        "        E[k] = np.dot( D[k], W[k].T )\n",
        "        d[k] = ( 1 - Y[k-1]**2 )\n",
        "        D[k-1] = ( bias_sub( E[k]*d[k] ) )\n",
        "    return delta_W"
      ],
      "metadata": {
        "id": "zv8kaaFt7Cj5"
      },
      "execution_count": 17,
      "outputs": []
    },
    {
      "cell_type": "code",
      "source": [
        "def adaptation(S,W,delta_W):\n",
        "  L = len(S) \n",
        "  for k in range(1,L-1):\n",
        "    W[k] += delta_W[k]\n",
        "  return W"
      ],
      "metadata": {
        "id": "lmd6eDay7EOV"
      },
      "execution_count": 18,
      "outputs": []
    },
    {
      "cell_type": "code",
      "source": [
        "def estimation(Z,Y):\n",
        "  est = np.mean( np.square(Z - Y) )\n",
        "  return est"
      ],
      "metadata": {
        "id": "mRn7CN5y7GPW"
      },
      "execution_count": 5,
      "outputs": []
    },
    {
      "cell_type": "code",
      "source": [
        "def train(X, Z, S, W, lr, eps, epoch):\n",
        "\n",
        "  error = 1\n",
        "  iter = 0\n",
        "  errores = []\n",
        "  while error > eps and iter < epoch:\n",
        "\n",
        "    Y = activation(X,S,W)\n",
        "    delta_w = correction(Y,Z,S,W)\n",
        "    W = adaptation(S,W,delta_w)\n",
        "    error = estimation(Z,Y[-1])\n",
        "\n",
        "    errores.append(error)\n",
        "    iter += 1\n",
        "\n",
        "  return errores"
      ],
      "metadata": {
        "id": "vInnTviIkV5S"
      },
      "execution_count": 20,
      "outputs": []
    },
    {
      "cell_type": "code",
      "source": [
        "def train_stochastic(X, Z, S, W, lr, eps, epoch):\n",
        "    \n",
        "  error = 1\n",
        "  iter = 0\n",
        "  errores = []\n",
        "  P = len(X)\n",
        "  while error > eps and iter < epoch:\n",
        "    e = 0\n",
        "    stochastic = np.random.permutation(P)\n",
        "    for h in stochastic:\n",
        "        Xh = X[h:h+1]\n",
        "        Zh = Z[h:h+1]\n",
        "\n",
        "        Y = activation(Xh,S,W)\n",
        "        delta_w = correction(Y,Zh,S,W)\n",
        "        W = adaptation(S,W,delta_w)\n",
        "        e += np.sum( np.square( Z - Y[-1] ))\n",
        "        \n",
        "    error = e/P\n",
        "    errores.append(error)\n",
        "    iter += 1\n",
        "\n",
        "  return errores"
      ],
      "metadata": {
        "id": "OoNn7T0skWOX"
      },
      "execution_count": 40,
      "outputs": []
    },
    {
      "cell_type": "code",
      "source": [
        "datos1 = pd.read_csv('/content/p13_ej1_regress.csv', header = None ) # Ultima columna son los datos objetivo. Los otros de entrada"
      ],
      "metadata": {
        "id": "1x8iT9Qj7Hok"
      },
      "execution_count": 8,
      "outputs": []
    },
    {
      "cell_type": "code",
      "source": [
        "datos1.head()"
      ],
      "metadata": {
        "colab": {
          "base_uri": "https://localhost:8080/",
          "height": 204
        },
        "id": "b3PVeC8T7TrN",
        "outputId": "1e0cf2a3-f03f-40be-b796-90fcc52cf51a"
      },
      "execution_count": 9,
      "outputs": [
        {
          "output_type": "execute_result",
          "data": {
            "text/plain": [
              "          0         1         2\n",
              "0  2.068351 -2.373603  0.243969\n",
              "1  1.199141  2.261119  0.107950\n",
              "2  2.743351  2.670040  0.104728\n",
              "3 -0.928589 -1.712618 -0.097826\n",
              "4 -1.995049  0.218964 -0.639999"
            ],
            "text/html": [
              "\n",
              "  <div id=\"df-f9d16f15-6d2a-4ca6-98cd-f9d517a9d361\">\n",
              "    <div class=\"colab-df-container\">\n",
              "      <div>\n",
              "<style scoped>\n",
              "    .dataframe tbody tr th:only-of-type {\n",
              "        vertical-align: middle;\n",
              "    }\n",
              "\n",
              "    .dataframe tbody tr th {\n",
              "        vertical-align: top;\n",
              "    }\n",
              "\n",
              "    .dataframe thead th {\n",
              "        text-align: right;\n",
              "    }\n",
              "</style>\n",
              "<table border=\"1\" class=\"dataframe\">\n",
              "  <thead>\n",
              "    <tr style=\"text-align: right;\">\n",
              "      <th></th>\n",
              "      <th>0</th>\n",
              "      <th>1</th>\n",
              "      <th>2</th>\n",
              "    </tr>\n",
              "  </thead>\n",
              "  <tbody>\n",
              "    <tr>\n",
              "      <th>0</th>\n",
              "      <td>2.068351</td>\n",
              "      <td>-2.373603</td>\n",
              "      <td>0.243969</td>\n",
              "    </tr>\n",
              "    <tr>\n",
              "      <th>1</th>\n",
              "      <td>1.199141</td>\n",
              "      <td>2.261119</td>\n",
              "      <td>0.107950</td>\n",
              "    </tr>\n",
              "    <tr>\n",
              "      <th>2</th>\n",
              "      <td>2.743351</td>\n",
              "      <td>2.670040</td>\n",
              "      <td>0.104728</td>\n",
              "    </tr>\n",
              "    <tr>\n",
              "      <th>3</th>\n",
              "      <td>-0.928589</td>\n",
              "      <td>-1.712618</td>\n",
              "      <td>-0.097826</td>\n",
              "    </tr>\n",
              "    <tr>\n",
              "      <th>4</th>\n",
              "      <td>-1.995049</td>\n",
              "      <td>0.218964</td>\n",
              "      <td>-0.639999</td>\n",
              "    </tr>\n",
              "  </tbody>\n",
              "</table>\n",
              "</div>\n",
              "      <button class=\"colab-df-convert\" onclick=\"convertToInteractive('df-f9d16f15-6d2a-4ca6-98cd-f9d517a9d361')\"\n",
              "              title=\"Convert this dataframe to an interactive table.\"\n",
              "              style=\"display:none;\">\n",
              "        \n",
              "  <svg xmlns=\"http://www.w3.org/2000/svg\" height=\"24px\"viewBox=\"0 0 24 24\"\n",
              "       width=\"24px\">\n",
              "    <path d=\"M0 0h24v24H0V0z\" fill=\"none\"/>\n",
              "    <path d=\"M18.56 5.44l.94 2.06.94-2.06 2.06-.94-2.06-.94-.94-2.06-.94 2.06-2.06.94zm-11 1L8.5 8.5l.94-2.06 2.06-.94-2.06-.94L8.5 2.5l-.94 2.06-2.06.94zm10 10l.94 2.06.94-2.06 2.06-.94-2.06-.94-.94-2.06-.94 2.06-2.06.94z\"/><path d=\"M17.41 7.96l-1.37-1.37c-.4-.4-.92-.59-1.43-.59-.52 0-1.04.2-1.43.59L10.3 9.45l-7.72 7.72c-.78.78-.78 2.05 0 2.83L4 21.41c.39.39.9.59 1.41.59.51 0 1.02-.2 1.41-.59l7.78-7.78 2.81-2.81c.8-.78.8-2.07 0-2.86zM5.41 20L4 18.59l7.72-7.72 1.47 1.35L5.41 20z\"/>\n",
              "  </svg>\n",
              "      </button>\n",
              "      \n",
              "  <style>\n",
              "    .colab-df-container {\n",
              "      display:flex;\n",
              "      flex-wrap:wrap;\n",
              "      gap: 12px;\n",
              "    }\n",
              "\n",
              "    .colab-df-convert {\n",
              "      background-color: #E8F0FE;\n",
              "      border: none;\n",
              "      border-radius: 50%;\n",
              "      cursor: pointer;\n",
              "      display: none;\n",
              "      fill: #1967D2;\n",
              "      height: 32px;\n",
              "      padding: 0 0 0 0;\n",
              "      width: 32px;\n",
              "    }\n",
              "\n",
              "    .colab-df-convert:hover {\n",
              "      background-color: #E2EBFA;\n",
              "      box-shadow: 0px 1px 2px rgba(60, 64, 67, 0.3), 0px 1px 3px 1px rgba(60, 64, 67, 0.15);\n",
              "      fill: #174EA6;\n",
              "    }\n",
              "\n",
              "    [theme=dark] .colab-df-convert {\n",
              "      background-color: #3B4455;\n",
              "      fill: #D2E3FC;\n",
              "    }\n",
              "\n",
              "    [theme=dark] .colab-df-convert:hover {\n",
              "      background-color: #434B5C;\n",
              "      box-shadow: 0px 1px 3px 1px rgba(0, 0, 0, 0.15);\n",
              "      filter: drop-shadow(0px 1px 2px rgba(0, 0, 0, 0.3));\n",
              "      fill: #FFFFFF;\n",
              "    }\n",
              "  </style>\n",
              "\n",
              "      <script>\n",
              "        const buttonEl =\n",
              "          document.querySelector('#df-f9d16f15-6d2a-4ca6-98cd-f9d517a9d361 button.colab-df-convert');\n",
              "        buttonEl.style.display =\n",
              "          google.colab.kernel.accessAllowed ? 'block' : 'none';\n",
              "\n",
              "        async function convertToInteractive(key) {\n",
              "          const element = document.querySelector('#df-f9d16f15-6d2a-4ca6-98cd-f9d517a9d361');\n",
              "          const dataTable =\n",
              "            await google.colab.kernel.invokeFunction('convertToInteractive',\n",
              "                                                     [key], {});\n",
              "          if (!dataTable) return;\n",
              "\n",
              "          const docLinkHtml = 'Like what you see? Visit the ' +\n",
              "            '<a target=\"_blank\" href=https://colab.research.google.com/notebooks/data_table.ipynb>data table notebook</a>'\n",
              "            + ' to learn more about interactive tables.';\n",
              "          element.innerHTML = '';\n",
              "          dataTable['output_type'] = 'display_data';\n",
              "          await google.colab.output.renderOutput(dataTable, element);\n",
              "          const docLink = document.createElement('div');\n",
              "          docLink.innerHTML = docLinkHtml;\n",
              "          element.appendChild(docLink);\n",
              "        }\n",
              "      </script>\n",
              "    </div>\n",
              "  </div>\n",
              "  "
            ]
          },
          "metadata": {},
          "execution_count": 9
        }
      ]
    },
    {
      "cell_type": "code",
      "source": [
        "X = np.concatenate( ( np.array(datos1[0]).reshape(-1,1), np.array(datos1[1]).reshape(-1,1) ), axis =1 )\n",
        "Z = np.array(datos1[2]).reshape(-1,1)\n",
        "\n",
        "print(X.shape)\n",
        "print(Z.shape)"
      ],
      "metadata": {
        "colab": {
          "base_uri": "https://localhost:8080/"
        },
        "id": "l3gCd70D770P",
        "outputId": "b25ff576-c500-429f-f890-92255e107384"
      },
      "execution_count": 19,
      "outputs": [
        {
          "output_type": "stream",
          "name": "stdout",
          "text": [
            "(5000, 2)\n",
            "(5000, 1)\n"
          ]
        }
      ]
    },
    {
      "cell_type": "code",
      "source": [
        "# Defino S y W\n",
        "# Los elementos del medio de S representan las dimensiones (columnas) de la capa oculta\n",
        "\n",
        "S = [len(X[0]),20,10,20,20,len(Z[0])]\n",
        "W = [0]\n",
        "lr = 0.025\n",
        "\n",
        "np.random.seed(10)\n",
        "for i in range(0,len(S)-1):\n",
        "  w_i = np.random.normal( 0, 0.1, (S[i]+1,S[i+1]) )\n",
        "  W.append(w_i)\n",
        "\n",
        "errs = train(X, Z, S, W, lr, 1e-3, 500)\n",
        "print('Ultimo error: ',errs[-1])\n",
        "plt.plot(errs)\n",
        "plt.show()"
      ],
      "metadata": {
        "colab": {
          "base_uri": "https://localhost:8080/",
          "height": 447
        },
        "id": "6anH4p4dW-1C",
        "outputId": "7e156b1a-ab3f-4d99-a832-ea7f96ad03c7"
      },
      "execution_count": 21,
      "outputs": [
        {
          "output_type": "stream",
          "name": "stdout",
          "text": [
            "Ultimo error:  0.0009851933793889748\n"
          ]
        },
        {
          "output_type": "display_data",
          "data": {
            "text/plain": [
              "<Figure size 640x480 with 1 Axes>"
            ],
            "image/png": "[encoded data removed]"
          },
          "metadata": {}
        }
      ]
    },
    {
      "cell_type": "markdown",
      "source": [
        "# Se repite el mismo proceso para ej2, ej3 "
      ],
      "metadata": {
        "id": "7aTa4Scpq-tD"
      }
    }
  ]
}