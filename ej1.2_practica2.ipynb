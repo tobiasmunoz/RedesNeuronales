{
  "nbformat": 4,
  "nbformat_minor": 0,
  "metadata": {
    "colab": {
      "provenance": []
    },
    "kernelspec": {
      "name": "python3",
      "display_name": "Python 3"
    },
    "language_info": {
      "name": "python"
    }
  },
  "cells": [
    {
      "cell_type": "markdown",
      "source": [
        "# Practica 2\n",
        "## Ej 1.2\n",
        "### Aproximación de funciones\n",
        "Implementar perceptrones multicapa para aproximar las siguientes funciones:\n",
        "\\\n",
        "\\\n",
        "f1(x) = 1/2 * sin(2πx) − 1/4 * sin(2πx) + 1/8 * sin(aπx)\n",
        "\\\n",
        "\\\n",
        "f2 (x) = 1/2 * sin(a cos(x))* cos(2x) + 1/4 * cos(x)\n",
        "\\\n",
        "\\\n",
        "Generar conjuntos de datos de distintos tamaños tomando valores a intervalos regulares o con una distribución aleatoria uniforme en el intervalo x ∈ [−2π . . . 2π].\n",
        "Entrenar la red y analizar los resultados para valores de a = 1, a = 2 y a = 4."
      ],
      "metadata": {
        "id": "DILjOHfaOT9J"
      }
    },
    {
      "cell_type": "markdown",
      "source": [
        "### f1(x) = 1/2 * sin(2πx) − 1/4 * sin(2πx) + 1/8 * sin(aπx)"
      ],
      "metadata": {
        "id": "tCoem-3xOlx3"
      }
    },
    {
      "cell_type": "code",
      "source": [
        "import numpy as np\n",
        "import matplotlib.pyplot as plt\n",
        "\n",
        "def bias_add(V):\n",
        "    bias = -np.ones( (len(V),1) )\n",
        "    return np.concatenate( (V,bias), axis=1)\n",
        "    #return np.hstack( [V,bias] ) # Funciona igual que lo de arriba\n",
        "\n",
        "def bias_sub(V):\n",
        "    return V[:,:-1] # Saco la ultima columna"
      ],
      "metadata": {
        "id": "VQvpa9bzOtjR"
      },
      "execution_count": 1,
      "outputs": []
    },
    {
      "cell_type": "code",
      "source": [
        "np.random.seed(10)\n",
        "xf1 = np.random.uniform(-2*np.pi,2*np.pi,(4,2)) # (P,Si) = (4,2)\n",
        "a = 4\n",
        "zf1 = 0.5 * np.sin( 2*np.pi*xf1) - 0.25 * np.sin( 2*np.pi*xf1 ) + 0.125 * np.sin( a*np.pi*xf1)  # (P,So) = (4,2)"
      ],
      "metadata": {
        "id": "HIlKJl-iOfuX"
      },
      "execution_count": 2,
      "outputs": []
    },
    {
      "cell_type": "code",
      "source": [
        "# Sh = 3 (a eleccion)\n",
        "\n",
        "Y0_f1 = np.zeros((4,3))\n",
        "Y1_f1 = np.zeros((4,4))\n",
        "Y2_f1 = np.zeros((4,2))\n",
        "\n",
        "np.random.seed(10)\n",
        "W1_f1 = np.random.normal(0,0.1,(3,3))\n",
        "W2_f1 = np.random.normal(0,0.1,(4,2))"
      ],
      "metadata": {
        "id": "uUb9hAHZOoae"
      },
      "execution_count": 3,
      "outputs": []
    },
    {
      "cell_type": "code",
      "source": [
        "Y0_f1[:] = bias_add(xf1)\n",
        "Y1_f1[:] = bias_add( np.tanh(np.dot( Y0_f1,W1_f1 )) )\n",
        "Y2_f1[:] = np.tanh( np.dot( Y1_f1, W2_f1 ) )\n",
        "\n",
        "E2_f1 = zf1 - Y2_f1\n",
        "dy2_f1 = 1 - Y2_f1**2\n",
        "D2_f1 = E2_f1*dy2_f1\n",
        "eta_f1 = 0.01\n",
        "delta_W2_f1 = eta_f1*np.dot(Y1_f1.T,D2_f1)\n",
        "\n",
        "E1_f1 = np.dot(D2_f1,W2_f1.T)\n",
        "dy1_f1 = 1 - Y1_f1**2\n",
        "D1_f1 = bias_sub(E1_f1*dy1_f1)\n",
        "delta_W1_f1 = eta_f1*np.dot(Y0_f1.T,D1_f1)\n",
        "\n",
        "W1_f1 += eta_f1*delta_W1_f1\n",
        "W2_f1 += eta_f1*delta_W2_f1"
      ],
      "metadata": {
        "id": "NPnqZ-BHOpvj"
      },
      "execution_count": 4,
      "outputs": []
    },
    {
      "cell_type": "code",
      "source": [
        "error_f1 = np.mean( np.square(E2_f1))\n",
        "error_f1"
      ],
      "metadata": {
        "colab": {
          "base_uri": "https://localhost:8080/"
        },
        "id": "OgkTLhp0O3f_",
        "outputId": "9ab78842-9c20-4e4b-ffe7-09963607ade1"
      },
      "execution_count": 5,
      "outputs": [
        {
          "output_type": "execute_result",
          "data": {
            "text/plain": [
              "0.029920503911380056"
            ]
          },
          "metadata": {},
          "execution_count": 5
        }
      ]
    },
    {
      "cell_type": "code",
      "source": [
        "iter = 0\n",
        "errores_f1 = [error_f1]\n",
        "while error_f1 > 0.0001 and iter < 999:\n",
        "    \n",
        "    Y1_f1[:] = bias_add( np.tanh(np.dot( Y0_f1,W1_f1 )) )\n",
        "    Y2_f1[:] = np.tanh( np.dot( Y1_f1, W2_f1 ) )\n",
        "\n",
        "    E2_f1 = zf1 - Y2_f1\n",
        "    dy2_f1 = 1 - Y2_f1**2\n",
        "    D2_f1 = E2_f1*dy2_f1\n",
        "    eta_f1 = 0.01\n",
        "    delta_W2_f1 = eta_f1*np.dot(Y1_f1.T,D2_f1)\n",
        "\n",
        "    E1_f1 = np.dot(D2_f1,W2_f1.T)\n",
        "    dy1_f1 = 1 - Y1_f1**2\n",
        "    D1_f1 = bias_sub(E1_f1*dy1_f1)\n",
        "    delta_W1_f1 = eta_f1*np.dot(Y0_f1.T,D1_f1)\n",
        "\n",
        "    W1_f1 += eta_f1*delta_W1_f1\n",
        "    W2_f1 += eta_f1*delta_W2_f1\n",
        "\n",
        "    error_f1 = np.mean( np.square(E2_f1))\n",
        "    errores_f1.append(error_f1)\n",
        "\n",
        "    iter += 1\n",
        "    \n",
        "    if iter % 100 == 0: print(error_f1,iter)"
      ],
      "metadata": {
        "colab": {
          "base_uri": "https://localhost:8080/"
        },
        "id": "AZUqrGVkO-_d",
        "outputId": "3f5ac77c-26e4-481e-8db0-827dd0ad1e50"
      },
      "execution_count": 6,
      "outputs": [
        {
          "output_type": "stream",
          "name": "stdout",
          "text": [
            "0.029303546924125103 100\n",
            "0.02872345631612034 200\n",
            "0.028177410725981546 300\n",
            "0.027662812985688776 400\n",
            "0.027177272195840277 500\n",
            "0.02671858712298722 600\n",
            "0.02628473084466538 700\n",
            "0.025873836567371546 800\n",
            "0.025484184543443013 900\n"
          ]
        }
      ]
    },
    {
      "cell_type": "code",
      "source": [
        "plt.plot(errores_f1)\n",
        "plt.title(\"Errores capa de salida\", weight = \"bold\")\n",
        "plt.xlabel(\"Iteraciones\")\n",
        "plt.show()"
      ],
      "metadata": {
        "colab": {
          "base_uri": "https://localhost:8080/",
          "height": 472
        },
        "id": "q9o2Vp5NPA50",
        "outputId": "9e5281fd-f3d7-4c49-a9ed-c6cfa510cc73"
      },
      "execution_count": 7,
      "outputs": [
        {
          "output_type": "display_data",
          "data": {
            "text/plain": [
              "<Figure size 640x480 with 1 Axes>"
            ],
            "image/png": "[encoded data removed]"
          },
          "metadata": {}
        }
      ]
    },
    {
      "cell_type": "markdown",
      "source": [
        "### f2 (x) = 1/2 * sin(a cos(x))* cos(2x) + 1/4 * cos(x)"
      ],
      "metadata": {
        "id": "yeQxAY9ePDvV"
      }
    },
    {
      "cell_type": "code",
      "source": [
        "np.random.seed(33)\n",
        "xf2 = np.random.uniform(-2*np.pi,2*np.pi,(4,2)) # (P,Si) = (4,2)\n",
        "a2 = 4\n",
        "zf2 = 0.5 * np.sin( a*np.cos(xf2) ) * np.cos(2*xf2)  + 0.25 * np.cos( xf2)  # (P,So) = (4,2)"
      ],
      "metadata": {
        "id": "wOtRY2etPEmA"
      },
      "execution_count": 8,
      "outputs": []
    },
    {
      "cell_type": "code",
      "source": [
        "# Sh = 3 (a eleccion)\n",
        "\n",
        "Y0_f2 = np.zeros((4,3))\n",
        "Y1_f2 = np.zeros((4,4))\n",
        "Y2_f2 = np.zeros((4,2))\n",
        "\n",
        "np.random.seed(33)\n",
        "W1_f2 = np.random.normal(0,0.1,(3,3))\n",
        "W2_f2 = np.random.normal(0,0.1,(4,2))"
      ],
      "metadata": {
        "id": "r3wQaNO4PJn6"
      },
      "execution_count": 9,
      "outputs": []
    },
    {
      "cell_type": "code",
      "source": [
        "Y0_f2[:] = bias_add(xf2)\n",
        "Y1_f2[:] = bias_add( np.tanh(np.dot( Y0_f2,W1_f2 )) )\n",
        "Y2_f2[:] = np.tanh( np.dot( Y1_f2, W2_f2 ) )\n",
        "\n",
        "E2_f2 = zf2 - Y2_f2\n",
        "dy2_f2 = 1 - Y2_f2**2\n",
        "D2_f2 = E2_f2*dy2_f2\n",
        "eta_f2 = 0.01\n",
        "delta_W2_f2 = eta_f2*np.dot(Y1_f2.T,D2_f2)\n",
        "\n",
        "E1_f2 = np.dot(D2_f2,W2_f2.T)\n",
        "dy1_f2 = 1 - Y1_f2**2\n",
        "D1_f2 = bias_sub(E1_f2*dy1_f2)\n",
        "delta_W1_f2 = eta_f2*np.dot(Y0_f2.T,D1_f2)\n",
        "\n",
        "W1_f2 += eta_f2*delta_W1_f2\n",
        "W2_f2 += eta_f2*delta_W2_f2"
      ],
      "metadata": {
        "id": "HMzMyX1LPLLX"
      },
      "execution_count": 10,
      "outputs": []
    },
    {
      "cell_type": "code",
      "source": [
        "error_f2 = np.mean( np.square(E2_f2))\n",
        "error_f2"
      ],
      "metadata": {
        "colab": {
          "base_uri": "https://localhost:8080/"
        },
        "id": "6mc938cPPOys",
        "outputId": "e8c6a3c0-d9e8-4d93-9b37-d063535fe877"
      },
      "execution_count": 11,
      "outputs": [
        {
          "output_type": "execute_result",
          "data": {
            "text/plain": [
              "0.05715098117800471"
            ]
          },
          "metadata": {},
          "execution_count": 11
        }
      ]
    },
    {
      "cell_type": "code",
      "source": [
        "iter = 0\n",
        "errores_f2 = [error_f2]\n",
        "while error_f2 > 0.0001 and iter < 999:\n",
        "    \n",
        "    Y1_f2[:] = bias_add( np.tanh(np.dot( Y0_f2,W1_f2 )) )\n",
        "    Y2_f2[:] = np.tanh( np.dot( Y1_f2, W2_f2 ) )\n",
        "\n",
        "    E2_f2 = zf2 - Y2_f2\n",
        "    dy2_f2 = 1 - Y2_f2**2\n",
        "    D2_f2 = E2_f2*dy2_f2\n",
        "    eta_f2 = 0.01\n",
        "    delta_W2_f2 = eta_f2*np.dot(Y1_f2.T,D2_f2)\n",
        "\n",
        "    E1_f2 = np.dot(D2_f2,W2_f2.T)\n",
        "    dy1_f2 = 1 - Y1_f2**2\n",
        "    D1_f2 = bias_sub(E1_f2*dy1_f2)\n",
        "    delta_W1_f2 = eta_f2*np.dot(Y0_f2.T,D1_f2)\n",
        "\n",
        "    W1_f2 += eta_f2*delta_W1_f2\n",
        "    W2_f2 += eta_f2*delta_W2_f2\n",
        "\n",
        "    error_f2 = np.mean( np.square(E2_f2))\n",
        "    errores_f2.append(error_f2)\n",
        "\n",
        "    iter += 1\n",
        "    \n",
        "    if iter % 100 == 0: print(error_f2,iter)"
      ],
      "metadata": {
        "colab": {
          "base_uri": "https://localhost:8080/"
        },
        "id": "p6TwxUurPQS3",
        "outputId": "3cab5775-6c86-4625-a373-eb8962fa948d"
      },
      "execution_count": 12,
      "outputs": [
        {
          "output_type": "stream",
          "name": "stdout",
          "text": [
            "0.053928154063165104 100\n",
            "0.05092139792087824 200\n",
            "0.048117637551304326 300\n",
            "0.04550434370075544 400\n",
            "0.04306953868487563 500\n",
            "0.040801799706198016 600\n",
            "0.03869025936628255 700\n",
            "0.03672460313597575 800\n",
            "0.03489506375093733 900\n"
          ]
        }
      ]
    },
    {
      "cell_type": "code",
      "source": [
        "plt.plot(errores_f2)\n",
        "plt.title(\"Errores capa de salida\", weight = \"bold\")\n",
        "plt.xlabel(\"Iteraciones\")\n",
        "plt.show()"
      ],
      "metadata": {
        "colab": {
          "base_uri": "https://localhost:8080/",
          "height": 472
        },
        "id": "rtck7E7KPTnQ",
        "outputId": "7d83f8bf-d610-477a-901c-81b9e63ddd4a"
      },
      "execution_count": 13,
      "outputs": [
        {
          "output_type": "display_data",
          "data": {
            "text/plain": [
              "<Figure size 640x480 with 1 Axes>"
            ],
            "image/png": "[encoded data removed]"
          },
          "metadata": {}
        }
      ]
    }
  ]
}